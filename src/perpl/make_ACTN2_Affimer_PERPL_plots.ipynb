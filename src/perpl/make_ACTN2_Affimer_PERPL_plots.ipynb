{
 "cells": [
  {
   "cell_type": "markdown",
   "metadata": {},
   "source": [
    "# Make ACTN2 Affimer PERPL analysis plots"
   ]
  },
  {
   "cell_type": "markdown",
   "metadata": {},
   "source": [
    "## Imports"
   ]
  },
  {
   "cell_type": "code",
   "execution_count": 1,
   "metadata": {},
   "outputs": [],
   "source": [
    "import numpy as np\n",
    "import pandas as pd\n",
    "import matplotlib.pyplot as plt\n",
    "import modelling_general\n",
    "import plotting\n",
    "import zdisk_modelling\n",
    "import zdisk_plots"
   ]
  },
  {
   "cell_type": "markdown",
   "metadata": {},
   "source": [
    "## Set average estimated localisation precision for Affimer and PALM data.\n",
    "This is the mean after filtering for localisation precision < 5 nm."
   ]
  },
  {
   "cell_type": "code",
   "execution_count": 2,
   "metadata": {},
   "outputs": [],
   "source": [
    "af647_precision = 3.1 # Mean value after filtering for precision < 5 nm"
   ]
  },
  {
   "cell_type": "markdown",
   "metadata": {},
   "source": [
    "## Set standard maximum distance over which to plot distances and fit models."
   ]
  },
  {
   "cell_type": "code",
   "execution_count": 3,
   "metadata": {},
   "outputs": [],
   "source": [
    "fitlength = 100."
   ]
  },
  {
   "cell_type": "markdown",
   "metadata": {},
   "source": [
    "## Choose Affimer relative position data and combine files if necessary\n",
    "### Insert paths to the Affimer relative position data here:"
   ]
  },
  {
   "cell_type": "code",
   "execution_count": 4,
   "metadata": {},
   "outputs": [],
   "source": [
    "actn_affimer_relpos_path = r\"..\\data-perpl\\ACTN2-Affimer_PERPL-relpos_200.0filter_len2440488.pkl\""
   ]
  },
  {
   "cell_type": "markdown",
   "metadata": {},
   "source": [
    "### Select desired datasets to combine here:\n",
    "These contain all data attributes, including the relative positions in both directions for each pair of localisations. We will filter e.g. for cell-axial data later."
   ]
  },
  {
   "cell_type": "code",
   "execution_count": 5,
   "metadata": {},
   "outputs": [
    {
     "name": "stdout",
     "output_type": "stream",
     "text": [
      "['..\\\\data-perpl\\\\ACTN2-Affimer_PERPL-relpos_200.0filter_len2440488.pkl']\n"
     ]
    }
   ],
   "source": [
    "path_list = [actn_affimer_relpos_path]\n",
    "print(path_list)\n",
    "relpos = zdisk_modelling.read_relpos_from_pickles(path_list)"
   ]
  },
  {
   "cell_type": "markdown",
   "metadata": {},
   "source": [
    "### Data attributes and number of data points:"
   ]
  },
  {
   "cell_type": "code",
   "execution_count": 6,
   "metadata": {},
   "outputs": [
    {
     "data": {
      "text/plain": [
       "axial          49.426791\n",
       "perpaxis2D     34.358846\n",
       "tocoverslip    15.602947\n",
       "z_nzcorr       16.072208\n",
       "transverse     37.932126\n",
       "Name: 0, dtype: float64"
      ]
     },
     "execution_count": 6,
     "metadata": {},
     "output_type": "execute_result"
    }
   ],
   "source": [
    "relpos.iloc[0, :] # This shows the first relative position."
   ]
  },
  {
   "cell_type": "code",
   "execution_count": 7,
   "metadata": {},
   "outputs": [
    {
     "data": {
      "text/plain": [
       "2440488"
      ]
     },
     "execution_count": 7,
     "metadata": {},
     "output_type": "execute_result"
    }
   ],
   "source": [
    "len(relpos) # This shows how many relative positions."
   ]
  },
  {
   "cell_type": "markdown",
   "metadata": {},
   "source": [
    "## Get the axial (X) distances, without duplicates\n",
    "The YZ-distance limit for pairs of localisations to include can be set here."
   ]
  },
  {
   "cell_type": "code",
   "execution_count": null,
   "metadata": {},
   "outputs": [],
   "source": [
    "# This is the YZ-distance limit for X-distances to include:\n",
    "transverse_limit = 10.\n",
    "\n",
    "axial_distances = zdisk_modelling.getaxialseparations_no_smoothing(\n",
    "    relpos,\n",
    "    max_distance=relpos.axial.max(),\n",
    "    transverse_limit=transverse_limit\n",
    "    )\n",
    "axial_distances = zdisk_modelling.remove_duplicates(axial_distances)"
   ]
  },
  {
   "cell_type": "markdown",
   "metadata": {},
   "source": [
    "## Get the 1-nm bin histogram data\n",
    "Up to distance = fitlength"
   ]
  },
  {
   "cell_type": "code",
   "execution_count": null,
   "metadata": {},
   "outputs": [],
   "source": [
    "hist_values, bin_edges = zdisk_plots.plot_distance_hist(\n",
    "    axial_distances,\n",
    "    fitlength\n",
    "    )\n",
    "bin_centres = (bin_edges[0:(len(bin_edges) - 1)]\n",
    "               + bin_edges[1:]\n",
    "               ) / 2"
   ]
  },
  {
   "cell_type": "markdown",
   "metadata": {},
   "source": [
    "## Get the KDE data\n",
    "Estimate every 1 nm, with kernel size based on localisation precision estimate."
   ]
  },
  {
   "cell_type": "code",
   "execution_count": null,
   "metadata": {},
   "outputs": [],
   "source": [
    "kde_x_values, kde = zdisk_plots.plot_distance_kde(\n",
    "    axial_distances,\n",
    "    af647_precision,\n",
    "    100.\n",
    "    )"
   ]
  },
  {
   "cell_type": "markdown",
   "metadata": {},
   "source": [
    "## Calculate the axial RPD with smoothing for Churchman 1D function"
   ]
  },
  {
   "cell_type": "code",
   "execution_count": null,
   "metadata": {},
   "outputs": [],
   "source": [
    "calculation_points = np.arange(fitlength + 1.)\n",
    "axial_rpd = plotting.estimate_rpd_churchman_1d(\n",
    "    input_distances=axial_distances,\n",
    "    calculation_points=calculation_points,\n",
    "    combined_precision=(np.sqrt(2) * af647_precision)\n",
    ")\n",
    "plt.plot(calculation_points, axial_rpd)"
   ]
  },
  {
   "cell_type": "markdown",
   "metadata": {},
   "source": [
    "## Choose axial model:"
   ]
  },
  {
   "cell_type": "code",
   "execution_count": null,
   "metadata": {},
   "outputs": [],
   "source": [
    "axial_model_with_info = zdisk_modelling.set_up_model_4_peaks_fixed_ratio_with_fit_settings()\n"
   ]
  },
  {
   "cell_type": "markdown",
   "metadata": {},
   "source": [
    "## Fit model to histogram bin values, at bin centres"
   ]
  },
  {
   "cell_type": "code",
   "execution_count": null,
   "metadata": {},
   "outputs": [],
   "source": [
    "(params_optimised,\n",
    " params_covar,\n",
    " params_1sd_error) = zdisk_modelling.fitmodel_to_hist(\n",
    "    bin_centres,\n",
    "    hist_values,\n",
    "    axial_model_with_info.model_rpd,\n",
    "    axial_model_with_info.initial_params,\n",
    "    axial_model_with_info.param_bounds,\n",
    "    )\n",
    "print('')\n",
    "print('Initial parameter guesses:')\n",
    "print(axial_model_with_info.initial_params)\n",
    "print('')\n",
    "print('Parameter bounds:')\n",
    "print(axial_model_with_info.param_bounds)"
   ]
  },
  {
   "cell_type": "markdown",
   "metadata": {},
   "source": [
    "## Plot fitted model over histogram data"
   ]
  },
  {
   "cell_type": "code",
   "execution_count": 32,
   "metadata": {},
   "outputs": [
    {
     "ename": "NameError",
     "evalue": "name 'axial_distances' is not defined",
     "output_type": "error",
     "traceback": [
      "\u001b[1;31m---------------------------------------------------------------------------\u001b[0m",
      "\u001b[1;31mNameError\u001b[0m                                 Traceback (most recent call last)",
      "\u001b[1;32m<ipython-input-32-7787b3f4a424>\u001b[0m in \u001b[0;36m<module>\u001b[1;34m\u001b[0m\n\u001b[0;32m      1\u001b[0m fig, axes = zdisk_plots.plot_distance_hist_and_fit(\n\u001b[1;32m----> 2\u001b[1;33m     \u001b[0maxial_distances\u001b[0m\u001b[1;33m,\u001b[0m\u001b[1;33m\u001b[0m\u001b[1;33m\u001b[0m\u001b[0m\n\u001b[0m\u001b[0;32m      3\u001b[0m     \u001b[0mfitlength\u001b[0m\u001b[1;33m,\u001b[0m\u001b[1;33m\u001b[0m\u001b[1;33m\u001b[0m\u001b[0m\n\u001b[0;32m      4\u001b[0m     \u001b[0mparams_optimised\u001b[0m\u001b[1;33m,\u001b[0m\u001b[1;33m\u001b[0m\u001b[1;33m\u001b[0m\u001b[0m\n\u001b[0;32m      5\u001b[0m     \u001b[0mparams_covar\u001b[0m\u001b[1;33m,\u001b[0m\u001b[1;33m\u001b[0m\u001b[1;33m\u001b[0m\u001b[0m\n",
      "\u001b[1;31mNameError\u001b[0m: name 'axial_distances' is not defined"
     ]
    }
   ],
   "source": [
    "fig, axes = zdisk_plots.plot_distance_hist_and_fit(\n",
    "    axial_distances,\n",
    "    fitlength,\n",
    "    params_optimised,\n",
    "    params_covar,\n",
    "    axial_model_with_info\n",
    ")"
   ]
  },
  {
   "cell_type": "markdown",
   "metadata": {},
   "source": [
    "## Plot fitted model over histogram data, with confidence intervals on the model\n",
    "### NOTE: IT TAKES A WHILE TO CALCULATE THE CONFIDENCE INTERVALS\n",
    "### Skip this if you don't need it right now."
   ]
  },
  {
   "cell_type": "code",
   "execution_count": null,
   "metadata": {},
   "outputs": [],
   "source": [
    "zdisk_plots.plot_distance_hist_and_fit(\n",
    "    axial_distances,\n",
    "    fitlength,\n",
    "    params_optimised,\n",
    "    params_covar,\n",
    "    axial_model_with_info,\n",
    "    plot_95ci=True\n",
    ")"
   ]
  },
  {
   "cell_type": "markdown",
   "metadata": {},
   "source": [
    "## Akaike weights for the models\n",
    "Typed in AICc values for the different models here, to obtain relative likelihood, summing to one:"
   ]
  },
  {
   "cell_type": "code",
   "execution_count": null,
   "metadata": {},
   "outputs": [],
   "source": [
    "from modelstats import akaike_weights\n",
    "weights = akaike_weights([\n",
    "    364.35,\n",
    "    364.51,\n",
    "    366.38,\n",
    "    370.28,\n",
    "    374.67\n",
    "])\n",
    "print(weights)"
   ]
  },
  {
   "cell_type": "markdown",
   "metadata": {},
   "source": [
    "## Plot model components for best model (4 peaks with fixed peak ratio)"
   ]
  },
  {
   "cell_type": "code",
   "execution_count": null,
   "metadata": {},
   "outputs": [],
   "source": [
    "zdisk_plots.plot_model_components_4peaks_fixed_peak_ratio(\n",
    "    fitlength,\n",
    "    *params_optimised)"
   ]
  },
  {
   "cell_type": "markdown",
   "metadata": {},
   "source": [
    "# Transverse distances"
   ]
  },
  {
   "cell_type": "markdown",
   "metadata": {},
   "source": [
    "## Get the transverse (YZ) distances, without duplicates\n",
    "The X-distance limit for pairs of localisations to include can be set here."
   ]
  },
  {
   "cell_type": "code",
   "execution_count": 8,
   "metadata": {},
   "outputs": [
    {
     "name": "stdout",
     "output_type": "stream",
     "text": [
      "(2440488, 5)\n"
     ]
    }
   ],
   "source": [
    "# This is the YZ-distance limit for X-distances to include:\n",
    "axial_limit = 10.\n",
    "print(relpos.shape)\n",
    "\n",
    "trans_distances = zdisk_modelling.get_transverse_separations(\n",
    "    relpos,\n",
    "    max_distance=relpos.transverse.max(),\n",
    "    axial_limit=axial_limit\n",
    "    )\n",
    "trans_distances = zdisk_modelling.remove_duplicates(trans_distances)"
   ]
  },
  {
   "cell_type": "markdown",
   "metadata": {},
   "source": [
    "## Choose analysis lengthscale for transverse distance"
   ]
  },
  {
   "cell_type": "code",
   "execution_count": 9,
   "metadata": {},
   "outputs": [],
   "source": [
    "fitlength = 50."
   ]
  },
  {
   "cell_type": "code",
   "execution_count": 10,
   "metadata": {},
   "outputs": [
    {
     "data": {
      "image/png": "[encoded data removed]",
      "text/plain": [
       "<Figure size 432x288 with 1 Axes>"
      ]
     },
     "metadata": {
      "needs_background": "light"
     },
     "output_type": "display_data"
    }
   ],
   "source": [
    "hist_1nm_bins = plt.hist(trans_distances, bins=np.arange(fitlength + 1.))"
   ]
  },
  {
   "cell_type": "markdown",
   "metadata": {},
   "source": [
    "## Estimate RPD using Churchman's function"
   ]
  },
  {
   "cell_type": "code",
   "execution_count": 11,
   "metadata": {},
   "outputs": [
    {
     "data": {
      "text/plain": [
       "[<matplotlib.lines.Line2D at 0x258bde32f08>]"
      ]
     },
     "execution_count": 11,
     "metadata": {},
     "output_type": "execute_result"
    },
    {
     "data": {
      "image/png": "[encoded data removed]",
      "text/plain": [
       "<Figure size 432x288 with 1 Axes>"
      ]
     },
     "metadata": {
      "needs_background": "light"
     },
     "output_type": "display_data"
    }
   ],
   "source": [
    "fitlength = 50.\n",
    "calculation_points = np.arange(fitlength + 1.)\n",
    "combined_precision= np.sqrt(2) * af647_precision\n",
    "transverse_rpd = plotting.estimate_rpd_churchman_2d(\n",
    "    input_distances=trans_distances[trans_distances < (fitlength + 3 * combined_precision)],\n",
    "    calculation_points=calculation_points,\n",
    "    combined_precision=combined_precision\n",
    ")\n",
    "plt.plot(calculation_points, transverse_rpd)"
   ]
  },
  {
   "cell_type": "markdown",
   "metadata": {},
   "source": [
    "## Normalise for increasing search circle with increasing distance"
   ]
  },
  {
   "cell_type": "code",
   "execution_count": 12,
   "metadata": {},
   "outputs": [
    {
     "data": {
      "text/plain": [
       "[<matplotlib.lines.Line2D at 0x258bdea9e48>]"
      ]
     },
     "execution_count": 12,
     "metadata": {},
     "output_type": "execute_result"
    },
    {
     "data": {
      "image/png": "[encoded data removed]",
      "text/plain": [
       "<Figure size 432x288 with 1 Axes>"
      ]
     },
     "metadata": {
      "needs_background": "light"
     },
     "output_type": "display_data"
    }
   ],
   "source": [
    "normalised_transverse_rpd = transverse_rpd[calculation_points > 0.] / calculation_points[calculation_points > 0.]\n",
    "norm_rpd_calculation_points = calculation_points[calculation_points > 0.]\n",
    "plt.plot(norm_rpd_calculation_points, normalised_transverse_rpd)"
   ]
  },
  {
   "cell_type": "markdown",
   "metadata": {},
   "source": [
    "### 1 nm-bin  histogram result for comparison"
   ]
  },
  {
   "cell_type": "code",
   "execution_count": null,
   "metadata": {},
   "outputs": [],
   "source": [
    "plt.plot(hist_1nm_bins[1][0:-1] + 0.5, hist_1nm_bins[0]/(hist_1nm_bins[1][0:-1] + 0.5))"
   ]
  },
  {
   "cell_type": "markdown",
   "metadata": {},
   "source": [
    "### Optional save/load to save time"
   ]
  },
  {
   "cell_type": "code",
   "execution_count": null,
   "metadata": {},
   "outputs": [],
   "source": [
    "np.save('normalised_transverse_rpd_smoothed_Churchman-4p4', normalised_transverse_rpd)\n",
    "# normalised_transverse_rpd = np.load('normalised_transverse_rpd_smoothed_Churchman-4p4.npy')"
   ]
  },
  {
   "cell_type": "markdown",
   "metadata": {},
   "source": [
    "## Set up an RPD model and fit\n",
    "I've tried a few smoothing kernel widths here."
   ]
  },
  {
   "cell_type": "code",
   "execution_count": null,
   "metadata": {},
   "outputs": [],
   "source": [
    "trans_model_with_info = zdisk_modelling.set_up_model_2d_onepeak_plus_replocs_flat_bg_with_fit_settings()"
   ]
  },
  {
   "cell_type": "code",
   "execution_count": null,
   "metadata": {},
   "outputs": [],
   "source": [
    "(params_optimised,\n",
    " params_covar,\n",
    " params_1sd_error) = zdisk_modelling.fitmodel_to_hist(\n",
    "    norm_rpd_calculation_points[0:31],\n",
    "    normalised_transverse_rpd[0:31],\n",
    "    trans_model_with_info.model_rpd,\n",
    "    trans_model_with_info.initial_params,\n",
    "    trans_model_with_info.param_bounds\n",
    "    )\n",
    "print('')\n",
    "print('Initial parameter guesses:')\n",
    "print(trans_model_with_info.initial_params)\n",
    "print('')\n",
    "print('Parameter bounds:')\n",
    "print(trans_model_with_info.param_bounds)"
   ]
  },
  {
   "cell_type": "code",
   "execution_count": null,
   "metadata": {},
   "outputs": [],
   "source": [
    "plt.plot(norm_rpd_calculation_points,\n",
    "    normalised_transverse_rpd)\n",
    "zdisk_plots.plot_fitted_model(\n",
    "    norm_rpd_calculation_points,\n",
    "    fitlength,\n",
    "    params_optimised,\n",
    "    params_covar,\n",
    "    trans_model_with_info,\n",
    "    plot_95ci=False\n",
    "    )"
   ]
  },
  {
   "cell_type": "code",
   "execution_count": 15,
   "metadata": {},
   "outputs": [],
   "source": [
    "fitlength = 50.\n",
    "calculation_points = np.arange(fitlength + 1.)\n",
    "combined_precision=8.\n",
    "transverse_rpd_s8 = plotting.estimate_rpd_churchman_2d(\n",
    "    input_distances=trans_distances[trans_distances < (fitlength + 3 * combined_precision)],\n",
    "    calculation_points=calculation_points,\n",
    "    combined_precision=combined_precision\n",
    ")"
   ]
  },
  {
   "cell_type": "code",
   "execution_count": 20,
   "metadata": {},
   "outputs": [
    {
     "data": {
      "image/png": "[encoded data removed]",
      "text/plain": [
       "<Figure size 432x288 with 1 Axes>"
      ]
     },
     "metadata": {
      "needs_background": "light"
     },
     "output_type": "display_data"
    }
   ],
   "source": [
    "normalised_transverse_rpd_s8 = transverse_rpd_s8[calculation_points > 0.] / calculation_points[calculation_points > 0.]\n",
    "norm_rpd_calculation_points = calculation_points[calculation_points > 0.]\n",
    "plt.plot(norm_rpd_calculation_points, normalised_transverse_rpd_s8)\n",
    "np.save('..\\data-perpl\\ACTN2-Affimer\\\\normalised_transverse_rpd_smoothed_Churchman-8', normalised_transverse_rpd_s8)\n",
    "# normalised_transverse_rpd = np.load('normalised_transverse_rpd_smoothed_Churchman-4p4.npy')"
   ]
  },
  {
   "cell_type": "code",
   "execution_count": null,
   "metadata": {},
   "outputs": [],
   "source": [
    "(params_optimised,\n",
    " params_covar,\n",
    " params_1sd_error) = zdisk_modelling.fitmodel_to_hist(\n",
    "    norm_rpd_calculation_points[0:31],\n",
    "    normalised_transverse_rpd_s8[0:31],\n",
    "    trans_model_with_info.model_rpd,\n",
    "    trans_model_with_info.initial_params,\n",
    "    trans_model_with_info.param_bounds\n",
    "    )\n",
    "print('')\n",
    "print('Initial parameter guesses:')\n",
    "print(trans_model_with_info.initial_params)\n",
    "print('')\n",
    "print('Parameter bounds:')\n",
    "print(trans_model_with_info.param_bounds)"
   ]
  },
  {
   "cell_type": "code",
   "execution_count": null,
   "metadata": {},
   "outputs": [],
   "source": [
    "plt.plot(norm_rpd_calculation_points,\n",
    "    normalised_transverse_rpd_s8)\n",
    "zdisk_plots.plot_fitted_model(\n",
    "    norm_rpd_calculation_points,\n",
    "    fitlength,\n",
    "    params_optimised,\n",
    "    params_covar,\n",
    "    trans_model_with_info,\n",
    "    plot_95ci=False\n",
    "    )"
   ]
  },
  {
   "cell_type": "code",
   "execution_count": 21,
   "metadata": {},
   "outputs": [],
   "source": [
    "fitlength = 50.\n",
    "calculation_points = np.arange(fitlength + 1.)\n",
    "combined_precision=5.\n",
    "transverse_rpd_s5 = plotting.estimate_rpd_churchman_2d(\n",
    "    input_distances=trans_distances[trans_distances < (fitlength + 3 * combined_precision)],\n",
    "    calculation_points=calculation_points,\n",
    "    combined_precision=combined_precision\n",
    ")"
   ]
  },
  {
   "cell_type": "code",
   "execution_count": 22,
   "metadata": {},
   "outputs": [
    {
     "data": {
      "image/png": "[encoded data removed]",
      "text/plain": [
       "<Figure size 432x288 with 1 Axes>"
      ]
     },
     "metadata": {
      "needs_background": "light"
     },
     "output_type": "display_data"
    }
   ],
   "source": [
    "normalised_transverse_rpd_s5 = transverse_rpd_s5[calculation_points > 0.] / calculation_points[calculation_points > 0.]\n",
    "norm_rpd_calculation_points = calculation_points[calculation_points > 0.]\n",
    "plt.plot(norm_rpd_calculation_points, normalised_transverse_rpd_s5)\n",
    "np.save('normalised_transverse_rpd_smoothed_Churchman-5', normalised_transverse_rpd_s5)\n",
    "# normalised_transverse_rpd = np.load('normalised_transverse_rpd_smoothed_Churchman-4p4.npy')"
   ]
  },
  {
   "cell_type": "code",
   "execution_count": 23,
   "metadata": {},
   "outputs": [],
   "source": [
    "fitlength = 50.\n",
    "calculation_points = np.arange(fitlength + 1.)\n",
    "combined_precision=6.\n",
    "transverse_rpd_s6 = plotting.estimate_rpd_churchman_2d(\n",
    "    input_distances=trans_distances[trans_distances < (fitlength + 3 * combined_precision)],\n",
    "    calculation_points=calculation_points,\n",
    "    combined_precision=combined_precision\n",
    ")"
   ]
  },
  {
   "cell_type": "code",
   "execution_count": 24,
   "metadata": {},
   "outputs": [
    {
     "data": {
      "image/png": "[encoded data removed]",
      "text/plain": [
       "<Figure size 432x288 with 1 Axes>"
      ]
     },
     "metadata": {
      "needs_background": "light"
     },
     "output_type": "display_data"
    }
   ],
   "source": [
    "normalised_transverse_rpd_s6 = transverse_rpd_s6[calculation_points > 0.] / calculation_points[calculation_points > 0.]\n",
    "norm_rpd_calculation_points = calculation_points[calculation_points > 0.]\n",
    "plt.plot(norm_rpd_calculation_points, normalised_transverse_rpd_s6)\n",
    "np.save('normalised_transverse_rpd_smoothed_Churchman-6', normalised_transverse_rpd_s6)\n",
    "# normalised_transverse_rpd = np.load('normalised_transverse_rpd_smoothed_Churchman-4p4.npy')"
   ]
  },
  {
   "cell_type": "code",
   "execution_count": null,
   "metadata": {},
   "outputs": [],
   "source": [
    "(params_optimised,\n",
    " params_covar,\n",
    " params_1sd_error) = zdisk_modelling.fitmodel_to_hist(\n",
    "    norm_rpd_calculation_points[0:31],\n",
    "    normalised_transverse_rpd_s6[0:31],\n",
    "    trans_model_with_info.model_rpd,\n",
    "    trans_model_with_info.initial_params,\n",
    "    trans_model_with_info.param_bounds\n",
    "    )\n",
    "print('')\n",
    "print('Initial parameter guesses:')\n",
    "print(trans_model_with_info.initial_params)\n",
    "print('')\n",
    "print('Parameter bounds:')\n",
    "print(trans_model_with_info.param_bounds)"
   ]
  },
  {
   "cell_type": "code",
   "execution_count": null,
   "metadata": {},
   "outputs": [],
   "source": [
    "plt.plot(norm_rpd_calculation_points,\n",
    "    normalised_transverse_rpd_s8)\n",
    "zdisk_plots.plot_fitted_model(\n",
    "    norm_rpd_calculation_points,\n",
    "    fitlength,\n",
    "    params_optimised,\n",
    "    params_covar,\n",
    "    trans_model_with_info,\n",
    "    plot_95ci=False\n",
    "    )"
   ]
  },
  {
   "cell_type": "markdown",
   "metadata": {},
   "source": [
    "## Set up another model and fit\n",
    "Tried a few smoothing widths again\n",
    "### This model fits much better"
   ]
  },
  {
   "cell_type": "code",
   "execution_count": 25,
   "metadata": {},
   "outputs": [],
   "source": [
    "trans_model_with_info = zdisk_modelling.set_up_model_2d_twopeaks_flat_bg_with_fit_settings()"
   ]
  },
  {
   "cell_type": "code",
   "execution_count": 26,
   "metadata": {},
   "outputs": [],
   "source": [
    "normalised_transverse_rpd_s6 = np.load('./normalised_transverse_rpd_smoothed_Churchman-6.npy')\n",
    "calculation_points = np.arange(fitlength + 1.)\n",
    "norm_rpd_calculation_points = calculation_points[calculation_points > 0.]"
   ]
  },
  {
   "cell_type": "code",
   "execution_count": 27,
   "metadata": {},
   "outputs": [
    {
     "name": "stdout",
     "output_type": "stream",
     "text": [
      "[[1.10972642e+01 8.35992331e-03]\n",
      " [2.38092488e+01 2.03679789e-02]\n",
      " [6.59552871e+00 7.85793535e-03]\n",
      " [1.20984124e+02 4.88657166e-01]\n",
      " [1.84130391e+02 8.07139153e-01]\n",
      " [1.06337374e+01 1.97937077e-03]]\n",
      "SSR = 3.1998682683694416e-06\n",
      "AIC = -484.67803170839477\n",
      "AICcorr = -479.80846649100346\n",
      "\n",
      "Initial parameter guesses:\n",
      "[20, 40.0, 5, 1, 1, 20]\n",
      "\n",
      "Parameter bounds:\n",
      "([0, 0, 0, 0, 0, 0], [50, 50.0, 20, 1000, 1000, 100])\n"
     ]
    }
   ],
   "source": [
    "(params_optimised,\n",
    " params_covar,\n",
    " params_1sd_error) = zdisk_modelling.fitmodel_to_hist(\n",
    "    norm_rpd_calculation_points[0:31],\n",
    "    normalised_transverse_rpd_s6[0:31],\n",
    "    trans_model_with_info.model_rpd,\n",
    "    trans_model_with_info.initial_params,\n",
    "    trans_model_with_info.param_bounds\n",
    "    )\n",
    "print('')\n",
    "print('Initial parameter guesses:')\n",
    "print(trans_model_with_info.initial_params)\n",
    "print('')\n",
    "print('Parameter bounds:')\n",
    "print(trans_model_with_info.param_bounds)"
   ]
  },
  {
   "cell_type": "code",
   "execution_count": 28,
   "metadata": {},
   "outputs": [
    {
     "name": "stdout",
     "output_type": "stream",
     "text": [
      "x at zero bg is -0.05775112568529942.\n"
     ]
    },
    {
     "name": "stderr",
     "output_type": "stream",
     "text": [
      "C:\\Code\\perpl-python3\\models_2d_distances_normalised.py:101: RuntimeWarning: invalid value encountered in double_scalars\n",
      "  / x_values # Normalisation\n",
      "C:\\Code\\perpl-python3\\models_2d_distances_normalised.py:104: RuntimeWarning: invalid value encountered in double_scalars\n",
      "  / x_values # Normalisation\n",
      "C:\\Users\\fbsacu\\Miniconda3\\envs\\PERPL\\lib\\site-packages\\numdifftools\\extrapolation.py:489: RuntimeWarning: invalid value encountered in less_equal\n",
      "  converged = err <= tol\n",
      "C:\\Users\\fbsacu\\Miniconda3\\envs\\PERPL\\lib\\site-packages\\numdifftools\\limits.py:173: RuntimeWarning: invalid value encountered in less\n",
      "  outliers = (((abs(der) < (a_median / trim_fact)) +\n",
      "C:\\Users\\fbsacu\\Miniconda3\\envs\\PERPL\\lib\\site-packages\\numdifftools\\limits.py:174: RuntimeWarning: invalid value encountered in greater\n",
      "  (abs(der) > (a_median * trim_fact))) * (a_median > 1e-8) +\n",
      "C:\\Users\\fbsacu\\Miniconda3\\envs\\PERPL\\lib\\site-packages\\numdifftools\\limits.py:175: RuntimeWarning: invalid value encountered in less\n",
      "  ((der < p25 - 1.5 * iqr) + (p75 + 1.5 * iqr < der)))\n"
     ]
    },
    {
     "data": {
      "image/png": "[encoded data removed]",
      "text/plain": [
       "<Figure size 432x288 with 1 Axes>"
      ]
     },
     "metadata": {
      "needs_background": "light"
     },
     "output_type": "display_data"
    }
   ],
   "source": [
    "plt.plot(norm_rpd_calculation_points[0:31],\n",
    "    normalised_transverse_rpd_s6[0:31])\n",
    "zdisk_plots.plot_fitted_model(\n",
    "    norm_rpd_calculation_points[0:31],\n",
    "    31.,\n",
    "    params_optimised,\n",
    "    params_covar,\n",
    "    trans_model_with_info,\n",
    "    plot_95ci=True\n",
    "    )"
   ]
  },
  {
   "cell_type": "code",
   "execution_count": null,
   "metadata": {},
   "outputs": [],
   "source": [
    "(params_optimised,\n",
    " params_covar,\n",
    " params_1sd_error) = zdisk_modelling.fitmodel_to_hist(\n",
    "    norm_rpd_calculation_points[0:31],\n",
    "    normalised_transverse_rpd[0:31],\n",
    "    trans_model_with_info.model_rpd,\n",
    "    trans_model_with_info.initial_params,\n",
    "    trans_model_with_info.param_bounds\n",
    "    )\n",
    "print('')\n",
    "print('Initial parameter guesses:')\n",
    "print(trans_model_with_info.initial_params)\n",
    "print('')\n",
    "print('Parameter bounds:')\n",
    "print(trans_model_with_info.param_bounds)"
   ]
  },
  {
   "cell_type": "code",
   "execution_count": null,
   "metadata": {},
   "outputs": [],
   "source": [
    "plt.plot(norm_rpd_calculation_points[0:31],\n",
    "    normalised_transverse_rpd[0:31])\n",
    "zdisk_plots.plot_fitted_model(\n",
    "    norm_rpd_calculation_points[0:31],\n",
    "    31.,\n",
    "    params_optimised,\n",
    "    params_covar,\n",
    "    trans_model_with_info,\n",
    "    plot_95ci=True\n",
    "    )"
   ]
  },
  {
   "cell_type": "code",
   "execution_count": null,
   "metadata": {},
   "outputs": [],
   "source": [
    "normalised_transverse_rpd_s8 = np.load('./normalised_transverse_rpd_smoothed_Churchman-8.npy')\n",
    "calculation_points = np.arange(fitlength + 1.)\n",
    "norm_rpd_calculation_points = calculation_points[calculation_points > 0.]"
   ]
  },
  {
   "cell_type": "code",
   "execution_count": null,
   "metadata": {},
   "outputs": [],
   "source": [
    "(params_optimised,\n",
    " params_covar,\n",
    " params_1sd_error) = zdisk_modelling.fitmodel_to_hist(\n",
    "    norm_rpd_calculation_points[0:31],\n",
    "    normalised_transverse_rpd_s8[0:31],\n",
    "    trans_model_with_info.model_rpd,\n",
    "    trans_model_with_info.initial_params,\n",
    "    trans_model_with_info.param_bounds\n",
    "    )\n",
    "print('')\n",
    "print('Initial parameter guesses:')\n",
    "print(trans_model_with_info.initial_params)\n",
    "print('')\n",
    "print('Parameter bounds:')\n",
    "print(trans_model_with_info.param_bounds)"
   ]
  },
  {
   "cell_type": "code",
   "execution_count": null,
   "metadata": {},
   "outputs": [],
   "source": [
    "plt.plot(norm_rpd_calculation_points[0:31],\n",
    "    normalised_transverse_rpd_s8[0:31])\n",
    "zdisk_plots.plot_fitted_model(\n",
    "    norm_rpd_calculation_points[0:31],\n",
    "    31.,\n",
    "    params_optimised,\n",
    "    params_covar,\n",
    "    trans_model_with_info,\n",
    "    plot_95ci=True\n",
    "    )"
   ]
  },
  {
   "cell_type": "code",
   "execution_count": 30,
   "metadata": {},
   "outputs": [
    {
     "name": "stdout",
     "output_type": "stream",
     "text": [
      "[[1.11603027e+01 1.30711725e-02]\n",
      " [2.40419243e+01 3.66960752e-02]\n",
      " [5.80236918e+00 1.55535221e-02]\n",
      " [1.28784895e+02 1.16939837e+00]\n",
      " [1.99900011e+02 2.28218321e+00]\n",
      " [1.05942593e+01 5.64415618e-03]]\n",
      "SSR = 5.0241686788911083e-05\n",
      "AIC = -399.31223265322444\n",
      "AICcorr = -394.44266743583313\n",
      "\n",
      "Initial parameter guesses:\n",
      "[20, 40.0, 5, 1, 1, 20]\n",
      "\n",
      "Parameter bounds:\n",
      "([0, 0, 0, 0, 0, 0], [50, 50.0, 20, 1000, 1000, 100])\n"
     ]
    }
   ],
   "source": [
    "(params_optimised,\n",
    " params_covar,\n",
    " params_1sd_error) = zdisk_modelling.fitmodel_to_hist(\n",
    "    norm_rpd_calculation_points[0:31],\n",
    "    normalised_transverse_rpd_s5[0:31],\n",
    "    trans_model_with_info.model_rpd,\n",
    "    trans_model_with_info.initial_params,\n",
    "    trans_model_with_info.param_bounds\n",
    "    )\n",
    "print('')\n",
    "print('Initial parameter guesses:')\n",
    "print(trans_model_with_info.initial_params)\n",
    "print('')\n",
    "print('Parameter bounds:')\n",
    "print(trans_model_with_info.param_bounds)"
   ]
  },
  {
   "cell_type": "code",
   "execution_count": 31,
   "metadata": {},
   "outputs": [
    {
     "name": "stdout",
     "output_type": "stream",
     "text": [
      "x at zero bg is -0.05299779236206779.\n"
     ]
    },
    {
     "name": "stderr",
     "output_type": "stream",
     "text": [
      "C:\\Code\\perpl-python3\\models_2d_distances_normalised.py:101: RuntimeWarning: invalid value encountered in double_scalars\n",
      "  / x_values # Normalisation\n",
      "C:\\Code\\perpl-python3\\models_2d_distances_normalised.py:104: RuntimeWarning: invalid value encountered in double_scalars\n",
      "  / x_values # Normalisation\n",
      "C:\\Users\\fbsacu\\Miniconda3\\envs\\PERPL\\lib\\site-packages\\numdifftools\\extrapolation.py:489: RuntimeWarning: invalid value encountered in less_equal\n",
      "  converged = err <= tol\n",
      "C:\\Users\\fbsacu\\Miniconda3\\envs\\PERPL\\lib\\site-packages\\numdifftools\\limits.py:173: RuntimeWarning: invalid value encountered in less\n",
      "  outliers = (((abs(der) < (a_median / trim_fact)) +\n",
      "C:\\Users\\fbsacu\\Miniconda3\\envs\\PERPL\\lib\\site-packages\\numdifftools\\limits.py:174: RuntimeWarning: invalid value encountered in greater\n",
      "  (abs(der) > (a_median * trim_fact))) * (a_median > 1e-8) +\n",
      "C:\\Users\\fbsacu\\Miniconda3\\envs\\PERPL\\lib\\site-packages\\numdifftools\\limits.py:175: RuntimeWarning: invalid value encountered in less\n",
      "  ((der < p25 - 1.5 * iqr) + (p75 + 1.5 * iqr < der)))\n"
     ]
    },
    {
     "data": {
      "image/png": "[encoded data removed]",
      "text/plain": [
       "<Figure size 432x288 with 1 Axes>"
      ]
     },
     "metadata": {
      "needs_background": "light"
     },
     "output_type": "display_data"
    }
   ],
   "source": [
    "plt.plot(norm_rpd_calculation_points[0:31],\n",
    "    normalised_transverse_rpd_s5[0:31])\n",
    "zdisk_plots.plot_fitted_model(\n",
    "    norm_rpd_calculation_points[0:31],\n",
    "    31.,\n",
    "    params_optimised,\n",
    "    params_covar,\n",
    "    trans_model_with_info,\n",
    "    plot_95ci=True\n",
    "    )"
   ]
  },
  {
   "cell_type": "code",
   "execution_count": null,
   "metadata": {},
   "outputs": [],
   "source": []
  }
 ],
 "metadata": {
  "file_extension": ".py",
  "kernelspec": {
   "display_name": "Python 3",
   "language": "python",
   "name": "python3"
  },
  "language_info": {
   "codemirror_mode": {
    "name": "ipython",
    "version": 3
   },
   "file_extension": ".py",
   "mimetype": "text/x-python",
   "name": "python",
   "nbconvert_exporter": "python",
   "pygments_lexer": "ipython3",
   "version": "3.7.10"
  },
  "mimetype": "text/x-python",
  "name": "python",
  "npconvert_exporter": "python",
  "pygments_lexer": "ipython3",
  "version": 3
 },
 "nbformat": 4,
 "nbformat_minor": 2
}
