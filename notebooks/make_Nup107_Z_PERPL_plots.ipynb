{
 "cells": [
  {
   "cell_type": "markdown",
   "metadata": {},
   "source": [
    "# Make Nup107 PERPL analysis plots in Z"
   ]
  },
  {
   "cell_type": "markdown",
   "metadata": {},
   "source": [
    "## Imports"
   ]
  },
  {
   "cell_type": "code",
   "execution_count": 1,
   "metadata": {},
   "outputs": [],
   "source": [
    "import time\n",
    "import numpy as np\n",
    "import matplotlib.pyplot as plt\n",
    "import modelling_general\n",
    "import two_layer_fitting\n",
    "import background_models\n",
    "import modelstats"
   ]
  },
  {
   "cell_type": "markdown",
   "metadata": {},
   "source": [
    "## Set standard maximum distance over which to plot distances and fit models"
   ]
  },
  {
   "cell_type": "code",
   "execution_count": 2,
   "metadata": {},
   "outputs": [],
   "source": [
    "fitlength = 200."
   ]
  },
  {
   "cell_type": "markdown",
   "metadata": {},
   "source": [
    "## Load relative position data\n",
    "### Insert path to the relative position data here:"
   ]
  },
  {
   "cell_type": "code",
   "execution_count": 5,
   "metadata": {},
   "outputs": [],
   "source": [
    "nup107_relpos_path = r'../data-perpl/Nup107_SNAP_3D_GRROUPED_10nmZprec_PERPL-relpos_200.0filter.csv'\n"
   ]
  },
  {
   "cell_type": "code",
   "execution_count": 6,
   "metadata": {},
   "outputs": [
    {
     "name": "stdout",
     "output_type": "stream",
     "text": [
      "This took 14.447729587554932 s.\n"
     ]
    }
   ],
   "source": [
    "start_time = time.time()\n",
    "relpos = np.loadtxt(nup107_relpos_path, delimiter=',', skiprows=1)\n",
    "print('This took ' +repr(time.time() - start_time)+ ' s.')"
   ]
  },
  {
   "cell_type": "markdown",
   "metadata": {},
   "source": [
    "### One data point and number of data points:"
   ]
  },
  {
   "cell_type": "code",
   "execution_count": 5,
   "metadata": {},
   "outputs": [
    {
     "data": {
      "text/plain": [
       "array([ -69.19     , -196.07     , -100.0249931])"
      ]
     },
     "execution_count": 5,
     "metadata": {},
     "output_type": "execute_result"
    }
   ],
   "source": [
    "relpos[0] # This shows the first relative position.\n",
    "# Distances are in X, Y, Z, XY, XZ, YZ, XYZ"
   ]
  },
  {
   "cell_type": "code",
   "execution_count": 6,
   "metadata": {},
   "outputs": [
    {
     "data": {
      "text/plain": [
       "2004869"
      ]
     },
     "execution_count": 6,
     "metadata": {},
     "output_type": "execute_result"
    }
   ],
   "source": [
    "len(relpos) # This shows how many relative positions."
   ]
  },
  {
   "cell_type": "markdown",
   "metadata": {},
   "source": [
    "## Get Z distances and plot 1-nm bin histogram\n",
    "Distances used up to fitlength.\n",
    "Histogram scaled so that mean counts = 1, to suit the fitting algorithm."
   ]
  },
  {
   "cell_type": "code",
   "execution_count": 7,
   "metadata": {},
   "outputs": [
    {
     "data": {
      "text/plain": [
       "Text(0, 0.5, 'Counts (scaled: mean = 1)')"
      ]
     },
     "execution_count": 7,
     "metadata": {},
     "output_type": "execute_result"
    },
    {
     "data": {
      "image/png": "[encoded data removed]",
      "text/plain": [
       "<Figure size 432x288 with 1 Axes>"
      ]
     },
     "metadata": {
      "needs_background": "light"
     },
     "output_type": "display_data"
    }
   ],
   "source": [
    "z_distances = np.abs(relpos[:, 2]) # Include all relative positions with negative z_distance (duplicates have removed by using only positive x_distance)\n",
    "z_distances = z_distances[z_distances <= fitlength]\n",
    "distance_histogram_values, bin_edges = np.histogram(\n",
    "    z_distances,\n",
    "    weights=np.repeat(float(fitlength) / len(z_distances),\n",
    "                      len(z_distances)\n",
    "                      ),\n",
    "    bins=np.arange(fitlength + 1)\n",
    "    )\n",
    "plt.figure()\n",
    "axes = plt.subplot(111)\n",
    "bin_centres = (bin_edges[:-1] + bin_edges[1:]) / 2\n",
    "width = 1.0\n",
    "axes.bar(bin_centres,\n",
    "         distance_histogram_values,\n",
    "         align='center', width=width, alpha=0.5,                       color='lightgrey'\n",
    "         )\n",
    "axes.set_xlim([0, fitlength])\n",
    "axes.set_xlabel(r'$\\Delta$Z (nm)')\n",
    "axes.set_ylabel('Counts (scaled: mean = 1)')"
   ]
  },
  {
   "cell_type": "markdown",
   "metadata": {},
   "source": [
    "## Choose RPD model:"
   ]
  },
  {
   "cell_type": "code",
   "execution_count": 8,
   "metadata": {},
   "outputs": [],
   "source": [
    "model = two_layer_fitting.two_layer_model_exp_decay_bg"
   ]
  },
  {
   "cell_type": "markdown",
   "metadata": {},
   "source": [
    "## Fit model to histogram bin values, at bin centres"
   ]
  },
  {
   "cell_type": "code",
   "execution_count": 9,
   "metadata": {},
   "outputs": [
    {
     "name": "stdout",
     "output_type": "stream",
     "text": [
      "Parameter estimates and uncertainties (stdev):\n",
      "[[5.81699065e+01 8.40901239e-02]\n",
      " [8.38091849e+01 1.27194982e+00]\n",
      " [7.41397188e+01 5.70761087e-01]\n",
      " [2.25887852e+01 4.97517061e-02]\n",
      " [8.04471456e-01 5.21729641e-02]\n",
      " [5.34855559e+01 1.47817421e+00]]\n"
     ]
    }
   ],
   "source": [
    "(params_optimised,\n",
    " params_covar,\n",
    " params_1sd_error) = two_layer_fitting.fit_two_layer_model(\n",
    "                        distance_histogram_values,\n",
    "                        model,\n",
    "                        fitlength\n",
    "                        )\n",
    "print('Parameter estimates and uncertainties (stdev):')\n",
    "print(np.column_stack((params_optimised, params_1sd_error)))"
   ]
  },
  {
   "cell_type": "markdown",
   "metadata": {},
   "source": [
    "## Plot fitted model over histogram data"
   ]
  },
  {
   "cell_type": "code",
   "execution_count": 10,
   "metadata": {},
   "outputs": [
    {
     "data": {
      "text/plain": [
       "[<matplotlib.lines.Line2D at 0x175c16c6588>]"
      ]
     },
     "execution_count": 10,
     "metadata": {},
     "output_type": "execute_result"
    },
    {
     "data": {
      "image/png": "[encoded data removed]",
      "text/plain": [
       "<Figure size 432x288 with 1 Axes>"
      ]
     },
     "metadata": {
      "needs_background": "light"
     },
     "output_type": "display_data"
    }
   ],
   "source": [
    "plt.figure()\n",
    "axes = plt.subplot(111)\n",
    "bin_centres = (bin_edges[:-1] + bin_edges[1:]) / 2\n",
    "width = 1.0\n",
    "axes.bar(bin_centres,\n",
    "         distance_histogram_values,\n",
    "         align='center', width=width, alpha=0.5,                       color='lightgrey'\n",
    "         )\n",
    "axes.set_xlim([0, fitlength])\n",
    "axes.set_xlabel(r'$\\Delta$Z (nm)')\n",
    "axes.set_ylabel('Counts (scaled: mean = 1)')\n",
    "\n",
    "# Plot model\n",
    "axes.plot(bin_centres,\n",
    "          model(bin_centres, *params_optimised),\n",
    "          color='xkcd:red', lw=0.75\n",
    "          )"
   ]
  },
  {
   "cell_type": "markdown",
   "metadata": {},
   "source": [
    "## Plot fitted model over histogram data, with confidence intervals on the model\n",
    "### NOTE: IT TAKES A WHILE TO CALCULATE THE CONFIDENCE INTERVALS\n",
    "### Skip this if you don't need it right now."
   ]
  },
  {
   "cell_type": "code",
   "execution_count": 11,
   "metadata": {},
   "outputs": [
    {
     "data": {
      "text/plain": [
       "Text(0.5, 1.0, \"Best model: 'two_layer_model_exp_decay_bg'\")"
      ]
     },
     "execution_count": 11,
     "metadata": {},
     "output_type": "execute_result"
    },
    {
     "data": {
      "image/png": "[encoded data removed]",
      "text/plain": [
       "<Figure size 432x288 with 1 Axes>"
      ]
     },
     "metadata": {
      "needs_background": "light"
     },
     "output_type": "display_data"
    }
   ],
   "source": [
    "plt.figure()\n",
    "axes = plt.subplot(111)\n",
    "bin_centres = (bin_edges[:-1] + bin_edges[1:]) / 2\n",
    "width = 1.0\n",
    "axes.bar(bin_centres,\n",
    "         distance_histogram_values,\n",
    "         align='center', width=width, alpha=0.5,                       color='lightgrey'\n",
    "         )\n",
    "axes.set_xlim([0, fitlength])\n",
    "axes.set_xlabel(r'$\\Delta$Z (nm)')\n",
    "axes.set_ylabel('Counts (scaled: mean = 1)')\n",
    "\n",
    "# Plot model\n",
    "axes.plot(bin_centres,\n",
    "          model(bin_centres, *params_optimised),\n",
    "          color='xkcd:red', lw=0.5\n",
    "          )\n",
    "\n",
    "# Find uncertainty (stdev) on model values,\n",
    "# based on covariance of fitted parameters.\n",
    "# Requires a version of the model that takes the arguments in a single vector\n",
    "vector_input_model = two_layer_fitting.two_layer_model_exp_decay_bg_vectorargs\n",
    "stdev = modelling_general.stdev_of_model(\n",
    "    bin_centres,\n",
    "    params_optimised,\n",
    "    params_covar,\n",
    "    vector_input_model)\n",
    "# Plot 95% confidence intervals\n",
    "axes.fill_between(bin_centres,\n",
    "                  model(bin_centres, *params_optimised) - stdev * 1.96,\n",
    "                  model(bin_centres, *params_optimised) + stdev * 1.96,\n",
    "                  facecolor='xkcd:red',\n",
    "                  alpha=0.25\n",
    "                  )\n",
    "axes.set_title('Best model: ' + repr(model.__name__))"
   ]
  },
  {
   "cell_type": "markdown",
   "metadata": {},
   "source": [
    "## Akaike weights for the models\n",
    "Typed in AICc values for the different models here, to obtain relative likelihood, summing to one:"
   ]
  },
  {
   "cell_type": "code",
   "execution_count": 12,
   "metadata": {},
   "outputs": [
    {
     "name": "stdout",
     "output_type": "stream",
     "text": [
      "[1.]\n"
     ]
    }
   ],
   "source": [
    "from modelstats import akaike_weights\n",
    "weights = akaike_weights([1.])\n",
    "print(weights)"
   ]
  },
  {
   "cell_type": "markdown",
   "metadata": {},
   "source": [
    "## Plot model components"
   ]
  },
  {
   "cell_type": "code",
   "execution_count": 13,
   "metadata": {},
   "outputs": [
    {
     "data": {
      "text/plain": [
       "Text(0.5, 1.0, \"Best model: 'two_layer_model_exp_decay_bg'\")"
      ]
     },
     "execution_count": 13,
     "metadata": {},
     "output_type": "execute_result"
    },
    {
     "data": {
      "image/png": "[encoded data removed]",
      "text/plain": [
       "<Figure size 432x288 with 1 Axes>"
      ]
     },
     "metadata": {
      "needs_background": "light"
     },
     "output_type": "display_data"
    }
   ],
   "source": [
    "(layer_separation,\n",
    " amplitude_within_layer,\n",
    " amplitude_between_layers,\n",
    " broadening,\n",
    " bg_amplitude,\n",
    " bg_scale_param) = params_optimised\n",
    "\n",
    "within_layer_peak = (\n",
    "    amplitude_within_layer\n",
    "    * modelling_general.pairwise_correlation_1d(\n",
    "        bin_centres,\n",
    "        0,\n",
    "        broadening\n",
    "        )\n",
    "    )\n",
    "\n",
    "between_layers_peak = (\n",
    "    amplitude_between_layers\n",
    "    * modelling_general.pairwise_correlation_1d(\n",
    "        bin_centres,\n",
    "        layer_separation,\n",
    "        broadening\n",
    "        )\n",
    "    )\n",
    "\n",
    "background = background_models.exponential_decay_1d_pair_corr(\n",
    "    bin_centres,\n",
    "    bg_amplitude,\n",
    "    bg_scale_param\n",
    "    )\n",
    "\n",
    "full_model = within_layer_peak + between_layers_peak + background\n",
    "\n",
    "plt.figure()\n",
    "axes = plt.subplot(111)\n",
    "axes.plot(bin_centres, within_layer_peak)\n",
    "axes.plot(bin_centres, between_layers_peak)\n",
    "axes.plot(bin_centres, background)\n",
    "axes.plot(bin_centres, full_model, color='xkcd:red')\n",
    "\n",
    "axes.set_xlim([0, fitlength])\n",
    "axes.set_xlabel(r'$\\Delta$Z (nm)')\n",
    "axes.set_ylabel('Counts (scaled: mean = 1)')\n",
    "axes.set_title('Best model: ' + repr(model.__name__))"
   ]
  },
  {
   "cell_type": "code",
   "execution_count": null,
   "metadata": {},
   "outputs": [],
   "source": []
  },
  {
   "cell_type": "code",
   "execution_count": null,
   "metadata": {},
   "outputs": [],
   "source": []
  }
 ],
 "metadata": {
  "file_extension": ".py",
  "kernelspec": {
   "display_name": "Python 3",
   "language": "python",
   "name": "python3"
  },
  "language_info": {
   "codemirror_mode": {
    "name": "ipython",
    "version": 3
   },
   "file_extension": ".py",
   "mimetype": "text/x-python",
   "name": "python",
   "nbconvert_exporter": "python",
   "pygments_lexer": "ipython3",
   "version": "3.7.10"
  },
  "mimetype": "text/x-python",
  "name": "python",
  "npconvert_exporter": "python",
  "pygments_lexer": "ipython3",
  "version": 3
 },
 "nbformat": 4,
 "nbformat_minor": 2
}
