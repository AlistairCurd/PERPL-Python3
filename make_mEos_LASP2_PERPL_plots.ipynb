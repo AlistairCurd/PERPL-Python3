{
 "cells": [
  {
   "cell_type": "markdown",
   "metadata": {},
   "source": [
    "# Make LASP2 Affimer PERPL analysis plots"
   ]
  },
  {
   "cell_type": "markdown",
   "metadata": {},
   "source": [
    "## Imports"
   ]
  },
  {
   "cell_type": "code",
   "execution_count": null,
   "metadata": {},
   "outputs": [],
   "source": [
    "import numpy as np\n",
    "import modelling_general\n",
    "import plotting\n",
    "import zdisk_modelling\n",
    "import zdisk_plots\n",
    "import matplotlib.pyplot as plt"
   ]
  },
  {
   "cell_type": "markdown",
   "metadata": {},
   "source": [
    "## Set average estimated localisation precision for Affimer and PALM data.\n",
    "This is the mean after filtering for localisation precision < 5 nm."
   ]
  },
  {
   "cell_type": "code",
   "execution_count": null,
   "metadata": {},
   "outputs": [],
   "source": [
    "meos_precision = 3.4 # Mean value after filtering for precision < 5 nm"
   ]
  },
  {
   "cell_type": "markdown",
   "metadata": {},
   "source": [
    "## Set standard maximum distance over which to plot distances and fit models."
   ]
  },
  {
   "cell_type": "code",
   "execution_count": null,
   "metadata": {},
   "outputs": [],
   "source": [
    "fitlength = 100."
   ]
  },
  {
   "cell_type": "markdown",
   "metadata": {},
   "source": [
    "## Choose Affimer relative position data and combine files if necessary\n",
    "### Insert paths to the Affimer relative position data here:"
   ]
  },
  {
   "cell_type": "code",
   "execution_count": null,
   "metadata": {},
   "outputs": [],
   "source": [
    "meos_lasp_relpos_path = r'../data-perpl/mEos3-LASP2_PERPL-relpos_200.0filter_5FOVs_aligned.pkl'\n"
   ]
  },
  {
   "cell_type": "markdown",
   "metadata": {},
   "source": [
    "### Select desired datasets to combine here:\n",
    "These contain all data attributes, including the relative positions in both directions for each pair of localisations. We will filter e.g. for cell-axial data later."
   ]
  },
  {
   "cell_type": "code",
   "execution_count": null,
   "metadata": {},
   "outputs": [],
   "source": [
    "path_list = [meos_lasp_relpos_path]\n",
    "relpos = zdisk_modelling.read_relpos_from_pickles(path_list)"
   ]
  },
  {
   "cell_type": "markdown",
   "metadata": {},
   "source": [
    "### Data attributes and number of data points:"
   ]
  },
  {
   "cell_type": "code",
   "execution_count": null,
   "metadata": {},
   "outputs": [],
   "source": [
    "relpos.iloc[0, :] # This shows the first relative position."
   ]
  },
  {
   "cell_type": "code",
   "execution_count": null,
   "metadata": {},
   "outputs": [],
   "source": [
    "len(relpos) # This shows how many relative positions."
   ]
  },
  {
   "cell_type": "markdown",
   "metadata": {},
   "source": [
    "## Get the axial (X) distances, without duplicates\n",
    "The YZ-distance limit for pairs of localisations to include can be set here."
   ]
  },
  {
   "cell_type": "code",
   "execution_count": null,
   "metadata": {},
   "outputs": [],
   "source": [
    "# This is the YZ-distance limit for X-distances to include:\n",
    "transverse_limit = 10.\n",
    "\n",
    "axial_distances = zdisk_modelling.getaxialseparations_no_smoothing(\n",
    "    relpos,\n",
    "    max_distance=relpos.axial.max(),\n",
    "    transverse_limit=transverse_limit\n",
    "    )\n",
    "axial_distances = zdisk_modelling.remove_duplicates(axial_distances)"
   ]
  },
  {
   "cell_type": "markdown",
   "metadata": {},
   "source": [
    "## Get the 1-nm bin histogram data\n",
    "Up to distance = fitlength"
   ]
  },
  {
   "cell_type": "code",
   "execution_count": null,
   "metadata": {},
   "outputs": [],
   "source": [
    "hist_values, bin_edges = zdisk_plots.plot_distance_hist(\n",
    "    axial_distances,\n",
    "    fitlength\n",
    "    )\n",
    "bin_centres = (bin_edges[0:(len(bin_edges) - 1)] + bin_edges[1:]) / 2"
   ]
  },
  {
   "cell_type": "markdown",
   "metadata": {},
   "source": [
    "## Get the KDE data (estimate every 1 nm)"
   ]
  },
  {
   "cell_type": "code",
   "execution_count": null,
   "metadata": {},
   "outputs": [],
   "source": [
    "kde_x_values, kde = zdisk_plots.plot_distance_kde(\n",
    "    axial_distances,\n",
    "    meos_precision,\n",
    "    fitlength\n",
    "    )"
   ]
  },
  {
   "cell_type": "markdown",
   "metadata": {},
   "source": [
    "## Set the X-distances at which to calculate the axial RPD"
   ]
  },
  {
   "cell_type": "code",
   "execution_count": null,
   "metadata": {},
   "outputs": [],
   "source": [
    "calculation_points = np.arange(fitlength + 1.)"
   ]
  },
  {
   "cell_type": "markdown",
   "metadata": {},
   "source": [
    "## Calculate the axial RPD with smoothing for Churchman 1D function"
   ]
  },
  {
   "cell_type": "code",
   "execution_count": null,
   "metadata": {},
   "outputs": [],
   "source": [
    "axial_rpd = plotting.estimate_rpd_churchman_1d(\n",
    "    input_distances=axial_distances,\n",
    "    calculation_points=calculation_points,\n",
    "    combined_precision=9.\n",
    "    # combined_precision=(np.sqrt(2) * meos_precision)\n",
    ")\n",
    "plt.plot(calculation_points, axial_rpd)"
   ]
  },
  {
   "cell_type": "markdown",
   "metadata": {},
   "source": [
    "## Choose axial model"
   ]
  },
  {
   "cell_type": "code",
   "execution_count": null,
   "metadata": {},
   "outputs": [],
   "source": [
    "axial_model_with_info = zdisk_modelling.set_up_model_5_variable_peaks_after_offset_flat_bg_with_fit_settings()"
   ]
  },
  {
   "cell_type": "markdown",
   "metadata": {},
   "source": [
    "## Fit model to Churchman-smoothed RPD"
   ]
  },
  {
   "cell_type": "code",
   "execution_count": null,
   "metadata": {},
   "outputs": [],
   "source": [
    "(params_optimised,\n",
    " params_covar,\n",
    " params_1sd_error) = zdisk_modelling.fitmodel_to_hist(\n",
    "    calculation_points,\n",
    "    axial_rpd,\n",
    "    axial_model_with_info.model_rpd,\n",
    "    axial_model_with_info.initial_params,\n",
    "    axial_model_with_info.param_bounds,\n",
    "    )\n",
    "print('')\n",
    "print('Initial parameter guesses:')\n",
    "print(axial_model_with_info.initial_params)\n",
    "print('')\n",
    "print('Parameter bounds:')\n",
    "print(axial_model_with_info.param_bounds)"
   ]
  },
  {
   "cell_type": "code",
   "execution_count": null,
   "metadata": {},
   "outputs": [],
   "source": [
    "plt.plot(calculation_points, axial_rpd)\n",
    "zdisk_plots.plot_fitted_model(\n",
    "    axial_distances,\n",
    "    fitlength,\n",
    "    params_optimised,\n",
    "    params_covar,\n",
    "    axial_model_with_info,\n",
    "    plot_95ci=True\n",
    "    )"
   ]
  },
  {
   "cell_type": "code",
   "execution_count": null,
   "metadata": {},
   "outputs": [],
   "source": []
  }
 ],
 "metadata": {
  "file_extension": ".py",
  "kernelspec": {
   "display_name": "Python 3",
   "language": "python",
   "name": "python3"
  },
  "language_info": {
   "codemirror_mode": {
    "name": "ipython",
    "version": 3
   },
   "file_extension": ".py",
   "mimetype": "text/x-python",
   "name": "python",
   "nbconvert_exporter": "python",
   "pygments_lexer": "ipython3",
   "version": "3.7.7"
  },
  "mimetype": "text/x-python",
  "name": "python",
  "npconvert_exporter": "python",
  "pygments_lexer": "ipython3",
  "version": 3
 },
 "nbformat": 4,
 "nbformat_minor": 2
}
