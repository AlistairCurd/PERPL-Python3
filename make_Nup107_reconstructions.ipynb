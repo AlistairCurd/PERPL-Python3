{
 "cells": [
  {
   "cell_type": "markdown",
   "metadata": {},
   "source": [
    "# Display 2D histograms of Nup107 FOV used in PERPL manuscript"
   ]
  },
  {
   "cell_type": "markdown",
   "metadata": {},
   "source": [
    "## Import modules"
   ]
  },
  {
   "cell_type": "code",
   "execution_count": null,
   "metadata": {},
   "outputs": [],
   "source": [
    "import numpy as np\n",
    "import matplotlib.pyplot as plt"
   ]
  },
  {
   "cell_type": "markdown",
   "metadata": {},
   "source": [
    "## Load localisations and build histogram\n",
    "\n",
    "Choose paths to load from and save to."
   ]
  },
  {
   "cell_type": "code",
   "execution_count": null,
   "metadata": {},
   "outputs": [],
   "source": [
    "input_path = r'..\\data-perpl\\Nup107_SNAP_3D_GRROUPED_10nmZprec.txt'\n",
    "locs = np.loadtxt(input_path, delimiter=',')\n",
    "print(locs.shape)\n",
    "# locs.columns"
   ]
  },
  {
   "cell_type": "markdown",
   "metadata": {},
   "source": [
    "### Change binsize as required for histogram"
   ]
  },
  {
   "cell_type": "code",
   "execution_count": null,
   "metadata": {},
   "outputs": [],
   "source": [
    "binsize = 50 # Edit\n",
    "edgex = np.arange(locs[:, 0].min() - 1.5 * binsize, locs[:, 0].max() + 2.5 * binsize, binsize)\n",
    "edgey = np.arange(locs[:, 1].min() - 1.5 * binsize,\n",
    "                  locs[:, 1].max() + 2.5 * binsize,\n",
    "                  binsize)\n",
    "hist_2d = np.histogram2d(locs[:, 1], locs[:, 0], bins=(edgey, edgex))[0]\n",
    "\n",
    "plt.matshow(hist_2d, cmap='gray')"
   ]
  },
  {
   "cell_type": "code",
   "execution_count": null,
   "metadata": {},
   "outputs": [],
   "source": [
    "## Option to save as binary"
   ]
  },
  {
   "cell_type": "code",
   "execution_count": null,
   "metadata": {},
   "outputs": [],
   "source": [
    "hist_2d.tofile(input_path[0:-4] + '_xyhist_' + repr(binsize) + 'nmbins_64bit_w{}_h{}.raw'.format(hist_2d.shape[1], hist_2d.shape[0]))\n",
    "print('2D histogram shape = ' + repr(hist_2d.shape) + ' (columns, rows).')"
   ]
  },
  {
   "cell_type": "markdown",
   "metadata": {},
   "source": [
    "## Zoom in on centre of FOV\n",
    "### Change binsize and zoom factor (centred on mean x and y values) as required"
   ]
  },
  {
   "cell_type": "code",
   "execution_count": null,
   "metadata": {},
   "outputs": [],
   "source": [
    "binsize = 5 # Edit\n",
    "zoomfactor = 10 # Edit\n",
    "rangex = locs[:, 0].max() - locs[:, 0].min()\n",
    "rangey = locs[:, 1].max() - locs[:, 1].min()\n",
    "\n",
    "edgex = np.arange(locs[:, 0].mean() - 1./ (zoomfactor * 2.) * rangex,\n",
    "                  locs[:, 0].mean() + 1./ (zoomfactor * 2.) * rangex,\n",
    "                  binsize)\n",
    "edgey = np.arange(locs[:, 1].mean() - 1./ (zoomfactor * 2.) * rangey,\n",
    "                  locs[:, 1].mean() + 1./ (zoomfactor * 2.) * rangey,\n",
    "                  binsize)\n",
    "hist_2d = np.histogram2d(locs[:, 1], locs[:, 0], bins=(edgey, edgex))[0]\n",
    "\n",
    "plt.matshow(hist_2d, cmap='gray')"
   ]
  },
  {
   "cell_type": "markdown",
   "metadata": {},
   "source": [
    "## Option to save as binary"
   ]
  },
  {
   "cell_type": "code",
   "execution_count": null,
   "metadata": {},
   "outputs": [],
   "source": [
    "hist_2d.tofile(input_path[0:-4] + '_xyhist_zoomfactor' + repr(zoomfactor) + '_' + repr(binsize) + 'nmbins_64bit_w{}_h{}.raw'.format(hist_2d.shape[1], hist_2d.shape[0]))\n",
    "print('2D histogram shape = ' + repr(hist_2d.shape) + ' (columns, rows).')"
   ]
  },
  {
   "cell_type": "code",
   "execution_count": null,
   "metadata": {},
   "outputs": [],
   "source": []
  }
 ],
 "metadata": {
  "file_extension": ".py",
  "kernelspec": {
   "display_name": "Python 3",
   "language": "python",
   "name": "python3"
  },
  "language_info": {
   "codemirror_mode": {
    "name": "ipython",
    "version": 3
   },
   "file_extension": ".py",
   "mimetype": "text/x-python",
   "name": "python",
   "nbconvert_exporter": "python",
   "pygments_lexer": "ipython3",
   "version": "3.7.3-final"
  },
  "mimetype": "text/x-python",
  "name": "python",
  "npconvert_exporter": "python",
  "pygments_lexer": "ipython2",
  "version": 2
 },
 "nbformat": 4,
 "nbformat_minor": 2
}
