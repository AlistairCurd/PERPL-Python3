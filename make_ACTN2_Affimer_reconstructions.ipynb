{
 "cells": [
  {
   "cell_type": "markdown",
   "metadata": {},
   "source": [
    "# Generate reconstructions of ACTN2 Affimer FOV used in PERPL manuscript\n",
    "Note: The crop of the 3D histogram was later cropped again in ImageJ and the reslice rotated correctly to match the cell orientation."
   ]
  },
  {
   "cell_type": "markdown",
   "metadata": {},
   "source": [
    "## Import modules"
   ]
  },
  {
   "cell_type": "code",
   "execution_count": null,
   "metadata": {},
   "outputs": [],
   "source": [
    "import numpy as np\n",
    "import pandas as pd\n",
    "import matplotlib.pyplot as plt"
   ]
  },
  {
   "cell_type": "markdown",
   "metadata": {},
   "source": [
    "## Load localisations and build histogram\n",
    "\n",
    "Choose paths to load from and save to."
   ]
  },
  {
   "cell_type": "code",
   "execution_count": null,
   "metadata": {},
   "outputs": [],
   "source": [
    "input_path = r'..\\data-perpl\\ACTN2-Affimer_locs_maxprec5.pkl'\n",
    "locs = pd.read_pickle(input_path)\n",
    "print(locs.columns)\n",
    "# locs.columns"
   ]
  },
  {
   "cell_type": "code",
   "execution_count": null,
   "metadata": {},
   "outputs": [],
   "source": [
    "binsize = 50\n",
    "edgex = np.arange(locs.xnm.min() - 1.5 * binsize, locs.xnm.max() + 2.5 * binsize, binsize)\n",
    "edgey = np.arange(locs.ynm.min() - 1.5 * binsize,\n",
    "                  locs.ynm.max() + 2.5 * binsize,\n",
    "                  binsize)\n",
    "hist_2d = np.histogram2d(locs.ynm, locs.xnm, bins=(edgey, edgex))[0]\n",
    "\n",
    "plt.matshow(hist_2d, cmap='gray')"
   ]
  },
  {
   "cell_type": "markdown",
   "metadata": {},
   "source": [
    "# Option to save as binary"
   ]
  },
  {
   "cell_type": "code",
   "execution_count": null,
   "metadata": {},
   "outputs": [],
   "source": [
    "hist_2d.tofile(input_path[0:-4] + '_xyhist_' + repr(binsize) + 'nmbins_64bit_w{}_h{}.raw'.format(hist_2d.shape[1], hist_2d.shape[0]))\n",
    "print('2D histogram shape = ' + repr(hist_2d.shape) + ' (columns, rows).')"
   ]
  },
  {
   "cell_type": "markdown",
   "metadata": {},
   "source": [
    "## Contruct 3D histogram: Top right of lower-magnification XY view"
   ]
  },
  {
   "cell_type": "code",
   "execution_count": null,
   "metadata": {},
   "outputs": [],
   "source": [
    "binsize = 5\n",
    "edgex = np.arange(locs.xnm.median(),\n",
    "                  locs.xnm.median() + (locs.xnm.max() - locs.xnm.median()) / 2,\n",
    "                  binsize)\n",
    "edgey = np.arange(locs.ynm.min(),\n",
    "                  locs.ynm.min() + (locs.ynm.median() - locs.ynm.min()) / 2,\n",
    "                  binsize)\n",
    "edgez = np.arange(locs.znm.min(),\n",
    "                  locs.znm.max(),\n",
    "                  binsize)\n",
    "hist3d = np.histogramdd(np.column_stack((locs.ynm, locs.xnm, locs.znm)), bins=(edgey, edgex, edgez))[0] # Re-order X and Y to match 2D histogram\n",
    "hist3d = hist3d.astype(np.uint16)\n",
    "\n",
    "plt.matshow(np.sum(hist3d, axis=2), cmap='gray')\n",
    "print(hist3d.shape)"
   ]
  },
  {
   "cell_type": "markdown",
   "metadata": {},
   "source": [
    "### Crop XY"
   ]
  },
  {
   "cell_type": "code",
   "execution_count": null,
   "metadata": {},
   "outputs": [],
   "source": [
    "hist3d_crop = hist3d[0:600, 300:1000, :]\n",
    "plt.matshow(np.sum(hist3d_crop, axis=2), cmap='gray')"
   ]
  },
  {
   "cell_type": "markdown",
   "metadata": {},
   "source": [
    "### Show XZ"
   ]
  },
  {
   "cell_type": "code",
   "execution_count": null,
   "metadata": {},
   "outputs": [],
   "source": [
    "plt.matshow(np.transpose(np.sum(hist3d_crop, axis=0)), cmap='gray')"
   ]
  },
  {
   "cell_type": "markdown",
   "metadata": {},
   "source": [
    "### Option to save as binary"
   ]
  },
  {
   "cell_type": "code",
   "execution_count": null,
   "metadata": {},
   "outputs": [],
   "source": [
    "# Re-order so that Z saves first, then vertical, then horizontal, as displayed above\n",
    "hist3d_transposed = np.transpose(hist3d_crop, (2, 0, 1))\n",
    "# Save\n",
    "hist3d_transposed.tofile(input_path[0:-4] + '_3dhist_' + repr(binsize) + 'nmbins_uint16bit_w{}_h{}_d{}.raw'.format(\n",
    "    hist3d_transposed.shape[2], hist3d_transposed.shape[1], hist3d_transposed.shape[0])\n",
    "                        )"
   ]
  },
  {
   "cell_type": "code",
   "execution_count": null,
   "metadata": {},
   "outputs": [],
   "source": [
    "print('3D histogram shape = ' + repr(hist3d_transposed.shape) + ' (depth, height, width).')"
   ]
  },
  {
   "cell_type": "code",
   "execution_count": null,
   "metadata": {},
   "outputs": [],
   "source": []
  }
 ],
 "metadata": {
  "file_extension": ".py",
  "kernelspec": {
   "display_name": "Python 3",
   "language": "python",
   "name": "python3"
  },
  "language_info": {
   "codemirror_mode": {
    "name": "ipython",
    "version": 3
   },
   "file_extension": ".py",
   "mimetype": "text/x-python",
   "name": "python",
   "nbconvert_exporter": "python",
   "pygments_lexer": "ipython3",
   "version": "3.7.7"
  },
  "mimetype": "text/x-python",
  "name": "python",
  "npconvert_exporter": "python",
  "pygments_lexer": "ipython2",
  "version": 2
 },
 "nbformat": 4,
 "nbformat_minor": 2
}
