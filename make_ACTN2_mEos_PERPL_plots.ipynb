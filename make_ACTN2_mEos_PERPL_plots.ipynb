{
 "cells": [
  {
   "cell_type": "markdown",
   "metadata": {},
   "source": [
    "# Make ACTN2 Affimer PERPL analysis plots"
   ]
  },
  {
   "cell_type": "markdown",
   "metadata": {},
   "source": [
    "## Imports"
   ]
  },
  {
   "cell_type": "code",
   "execution_count": 1,
   "metadata": {},
   "outputs": [],
   "source": [
    "import numpy as np\n",
    "import modelling_general\n",
    "import plotting\n",
    "import zdisk_modelling\n",
    "import zdisk_plots\n",
    "import matplotlib.pyplot as plt"
   ]
  },
  {
   "cell_type": "markdown",
   "metadata": {},
   "source": [
    "## Set average estimated localisation precision for Affimer and PALM data.\n",
    "This is the mean after filtering for localisation precision < 5 nm."
   ]
  },
  {
   "cell_type": "code",
   "execution_count": 2,
   "metadata": {},
   "outputs": [],
   "source": [
    "meos_precision = 3.4 # Mean value after filtering for precision < 5 nm"
   ]
  },
  {
   "cell_type": "markdown",
   "metadata": {},
   "source": [
    "## Set standard maximum distance over which to plot distances and fit models."
   ]
  },
  {
   "cell_type": "code",
   "execution_count": 3,
   "metadata": {},
   "outputs": [],
   "source": [
    "fitlength = 100."
   ]
  },
  {
   "cell_type": "markdown",
   "metadata": {},
   "source": [
    "## Choose Affimer relative position data and combine files if necessary\n",
    "### Insert paths to the Affimer relative position data here:"
   ]
  },
  {
   "cell_type": "code",
   "execution_count": 4,
   "metadata": {},
   "outputs": [],
   "source": [
    "actn_meos_relpos_path = r'../data-perpl/ACTN2-mEos2_PERPL-relpos_200.0filter_6FOVs_aligned_len1229656.pkl'\n"
   ]
  },
  {
   "cell_type": "markdown",
   "metadata": {},
   "source": [
    "### Select desired datasets to combine here:\n",
    "These contain all data attributes, including the relative positions in both directions for each pair of localisations. We will filter e.g. for cell-axial data later."
   ]
  },
  {
   "cell_type": "code",
   "execution_count": 6,
   "metadata": {},
   "outputs": [],
   "source": [
    "path_list = [actn_meos_relpos_path]\n",
    "relpos = zdisk_modelling.read_relpos_from_pickles(path_list)"
   ]
  },
  {
   "cell_type": "markdown",
   "metadata": {},
   "source": [
    "### Data attributes and number of data points:"
   ]
  },
  {
   "cell_type": "code",
   "execution_count": 7,
   "metadata": {},
   "outputs": [
    {
     "data": {
      "text/plain": [
       "axial           67.263878\n",
       "perpaxis2D     156.123034\n",
       "tocoverslip   -120.177951\n",
       "z_nzcorr      -123.792325\n",
       "transverse     199.245932\n",
       "Name: 0, dtype: float64"
      ]
     },
     "execution_count": 7,
     "metadata": {},
     "output_type": "execute_result"
    }
   ],
   "source": [
    "relpos.iloc[0, :] # This shows the first relative position."
   ]
  },
  {
   "cell_type": "code",
   "execution_count": 8,
   "metadata": {},
   "outputs": [
    {
     "data": {
      "text/plain": [
       "1229656"
      ]
     },
     "execution_count": 8,
     "metadata": {},
     "output_type": "execute_result"
    }
   ],
   "source": [
    "len(relpos) # This shows how many relative positions."
   ]
  },
  {
   "cell_type": "markdown",
   "metadata": {},
   "source": [
    "## Get the axial (X) distances, without duplicates\n",
    "The YZ-distance limit for pairs of localisations to include can be set here."
   ]
  },
  {
   "cell_type": "code",
   "execution_count": null,
   "metadata": {},
   "outputs": [],
   "source": [
    "# This is the YZ-distance limit for X-distances to include:\n",
    "transverse_limit = 10.\n",
    "\n",
    "axial_distances = zdisk_modelling.getaxialseparations_no_smoothing(\n",
    "    relpos,\n",
    "    max_distance=relpos.axial.max(),\n",
    "    transverse_limit=transverse_limit\n",
    "    )\n",
    "axial_distances = zdisk_modelling.remove_duplicates(axial_distances)"
   ]
  },
  {
   "cell_type": "markdown",
   "metadata": {},
   "source": [
    "## Set the X-distances at which to calculate the axial RPD"
   ]
  },
  {
   "cell_type": "code",
   "execution_count": null,
   "metadata": {},
   "outputs": [],
   "source": [
    "calculation_points = np.arange(fitlength + 1.)"
   ]
  },
  {
   "cell_type": "markdown",
   "metadata": {},
   "source": [
    "## Calculate the axial RPD with smoothing for Churchman 1D function"
   ]
  },
  {
   "cell_type": "code",
   "execution_count": null,
   "metadata": {},
   "outputs": [],
   "source": [
    "axial_rpd = plotting.estimate_rpd_churchman_1d(\n",
    "    input_distances=axial_distances,\n",
    "    calculation_points=calculation_points,\n",
    "    combined_precision=6\n",
    "    # combined_precision=(np.sqrt(2) * meos_precision)\n",
    ")\n",
    "plt.plot(calculation_points, axial_rpd)"
   ]
  },
  {
   "cell_type": "markdown",
   "metadata": {},
   "source": [
    "## Get the 1-nm bin histogram data\n",
    "Up to distance = fitlength"
   ]
  },
  {
   "cell_type": "code",
   "execution_count": null,
   "metadata": {},
   "outputs": [],
   "source": [
    "hist_values, bin_edges = zdisk_plots.plot_distance_hist(\n",
    "    axial_distances,\n",
    "    fitlength\n",
    "    )\n",
    "bin_centres = (bin_edges[0:(len(bin_edges) - 1)] + bin_edges[1:]) / 2"
   ]
  },
  {
   "cell_type": "markdown",
   "metadata": {},
   "source": [
    "## Get the KDE data (estimate every 1 nm)"
   ]
  },
  {
   "cell_type": "code",
   "execution_count": null,
   "metadata": {},
   "outputs": [],
   "source": [
    "kde_x_values, kde = zdisk_plots.plot_distance_kde(\n",
    "    axial_distances,\n",
    "    meos_precision,\n",
    "    fitlength\n",
    "    )"
   ]
  },
  {
   "cell_type": "markdown",
   "metadata": {},
   "source": [
    "## Choose axial model"
   ]
  },
  {
   "cell_type": "code",
   "execution_count": null,
   "metadata": {},
   "outputs": [],
   "source": [
    "# axial_model_with_info = zdisk_modelling.set_up_model_5_variable_peaks_with_fit_settings()\n",
    "# axial_model_with_info = zdisk_modelling.set_up_model_5_variable_peaks_bg_flat_with_fit_settings()\n",
    "# axial_model_with_info = zdisk_modelling.set_up_model_5_variable_peaks_with_replocs_bg_flat_with_fit_settings()\n",
    "axial_model_with_info = zdisk_modelling.set_up_model_5_peaks_fixed_ratio_with_fit_settings()\n",
    "# axial_model_with_info = zdisk_modelling.set_up_model_5_peaks_fixed_ratio_no_replocs_with_fit_settings()\n",
    "# axial_model_with_info = zdisk_modelling.set_up_model_linear_fit_plusreplocs_with_fit_settings()\n",
    "# axial_model_with_info = zdisk_modelling.set_up_model_onepeak_with_fit_settings()\n",
    "# axial_model_with_info = zdisk_modelling.set_up_model_onepeak_plus_replocs_with_fit_settings()\n",
    "# axial_model_with_info = zdisk_modelling.set_up_model_onepeak_plus_replocs_flat_bg_with_fit_settings()"
   ]
  },
  {
   "cell_type": "markdown",
   "metadata": {},
   "source": [
    "## Fit model to Churchman-smoothed RPD"
   ]
  },
  {
   "cell_type": "code",
   "execution_count": null,
   "metadata": {},
   "outputs": [],
   "source": [
    "(params_optimised,\n",
    " params_covar,\n",
    " params_1sd_error) = zdisk_modelling.fitmodel_to_hist(\n",
    "    calculation_points,\n",
    "    axial_rpd,\n",
    "    axial_model_with_info.model_rpd,\n",
    "    axial_model_with_info.initial_params,\n",
    "    axial_model_with_info.param_bounds,\n",
    "    )\n",
    "print('')\n",
    "print('Initial parameter guesses:')\n",
    "print(axial_model_with_info.initial_params)\n",
    "print('')\n",
    "print('Parameter bounds:')\n",
    "print(axial_model_with_info.param_bounds)"
   ]
  },
  {
   "cell_type": "code",
   "execution_count": null,
   "metadata": {},
   "outputs": [],
   "source": [
    "plt.plot(calculation_points, axial_rpd)\n",
    "zdisk_plots.plot_fitted_model(\n",
    "    axial_distances,\n",
    "    fitlength,\n",
    "    params_optimised,\n",
    "    params_covar,\n",
    "    axial_model_with_info,\n",
    "    plot_95ci=True\n",
    "    )"
   ]
  },
  {
   "cell_type": "markdown",
   "metadata": {},
   "source": [
    "## Fit model to histogram values\n",
    "This results in an error for some models because of the bin-to-bin noise of the histogram giving the fitting algorithm a challenge."
   ]
  },
  {
   "cell_type": "code",
   "execution_count": null,
   "metadata": {},
   "outputs": [],
   "source": [
    "(params_optimised,\n",
    " params_covar,\n",
    " params_1sd_error) = zdisk_modelling.fitmodel_to_hist(\n",
    "    bin_centres,\n",
    "    hist_values,\n",
    "    axial_model_with_info.model_rpd,\n",
    "    axial_model_with_info.initial_params,\n",
    "    axial_model_with_info.param_bounds,\n",
    "    )\n",
    "print('')\n",
    "print('Initial parameter guesses:')\n",
    "print(axial_model_with_info.initial_params)\n",
    "print('')\n",
    "print('Parameter bounds:')\n",
    "print(axial_model_with_info.param_bounds)"
   ]
  },
  {
   "cell_type": "code",
   "execution_count": null,
   "metadata": {},
   "outputs": [],
   "source": [
    "hist_values, bin_edges = zdisk_plots.plot_distance_hist(\n",
    "    axial_distances,\n",
    "    fitlength\n",
    "    )\n",
    "zdisk_plots.plot_fitted_model(\n",
    "    axial_distances,\n",
    "    fitlength,\n",
    "    params_optimised,\n",
    "    params_covar,\n",
    "    axial_model_with_info,\n",
    "    plot_95ci=True\n",
    "    )"
   ]
  },
  {
   "cell_type": "markdown",
   "metadata": {},
   "source": [
    "## Fit model to KDE values"
   ]
  },
  {
   "cell_type": "code",
   "execution_count": null,
   "metadata": {},
   "outputs": [],
   "source": [
    "(params_optimised,\n",
    " params_covar,\n",
    " params_1sd_error) = zdisk_modelling.fitmodel_to_hist(\n",
    "    kde_x_values,\n",
    "    kde,\n",
    "    axial_model_with_info.model_rpd,\n",
    "    axial_model_with_info.initial_params,\n",
    "    axial_model_with_info.param_bounds,\n",
    "    )\n",
    "print('')\n",
    "print('Initial parameter guesses:')\n",
    "print(axial_model_with_info.initial_params)\n",
    "print('')\n",
    "print('Parameter bounds:')\n",
    "print(axial_model_with_info.param_bounds)"
   ]
  },
  {
   "cell_type": "markdown",
   "metadata": {},
   "source": [
    "## Plot fitted model over KDE data"
   ]
  },
  {
   "cell_type": "code",
   "execution_count": null,
   "metadata": {},
   "outputs": [],
   "source": [
    "zdisk_plots.plot_distance_kde(\n",
    "    axial_distances,\n",
    "    meos_precision,\n",
    "    fitlength\n",
    "    )\n",
    "zdisk_plots.plot_fitted_model(\n",
    "    axial_distances,\n",
    "    fitlength,\n",
    "    params_optimised,\n",
    "    params_covar,\n",
    "    axial_model_with_info\n",
    "    )"
   ]
  },
  {
   "cell_type": "markdown",
   "metadata": {},
   "source": [
    "## Plot fitted model over histogram data, with confidence intervals on the model\n",
    "### NOTE: IT TAKES A WHILE TO CALCULATE THE CONFIDENCE INTERVALS\n",
    "### Skip this if you don't need it right now."
   ]
  },
  {
   "cell_type": "code",
   "execution_count": null,
   "metadata": {},
   "outputs": [],
   "source": [
    "zdisk_plots.plot_distance_kde(\n",
    "    axial_distances,\n",
    "    meos_precision,\n",
    "    fitlength\n",
    "    )\n",
    "zdisk_plots.plot_fitted_model(\n",
    "    axial_distances,\n",
    "    fitlength,\n",
    "    params_optimised,\n",
    "    params_covar,\n",
    "    axial_model_with_info,\n",
    "    plot_95ci=True\n",
    "    )"
   ]
  },
  {
   "cell_type": "markdown",
   "metadata": {},
   "source": [
    "## Plot model components for best model (5 peaks with independent amplitudes)\n",
    "Only for illustrating axial RPD model with 5 independent-amplitude peaks, plus linear background."
   ]
  },
  {
   "cell_type": "code",
   "execution_count": null,
   "metadata": {},
   "outputs": [],
   "source": [
    "#zdisk_plots.plot_model_components_5peaks_variable(\n",
    "#    kde_x_values,\n",
    "#    *params_optimised)"
   ]
  },
  {
   "cell_type": "markdown",
   "metadata": {},
   "source": [
    "# Transverse distances"
   ]
  },
  {
   "cell_type": "markdown",
   "metadata": {},
   "source": [
    "## Get the transverse (YZ) distances, without duplicates\n",
    "The X-distance limit for pairs of localisations to include can be set here."
   ]
  },
  {
   "cell_type": "code",
   "execution_count": 9,
   "metadata": {},
   "outputs": [
    {
     "name": "stdout",
     "output_type": "stream",
     "text": [
      "(1229656, 5)\n"
     ]
    }
   ],
   "source": [
    "# This is the YZ-distance limit for X-distances to include:\n",
    "axial_limit = 10.\n",
    "print(relpos.shape)\n",
    "\n",
    "trans_distances = zdisk_modelling.get_transverse_separations(\n",
    "    relpos,\n",
    "    max_distance=relpos.transverse.max(),\n",
    "    axial_limit=axial_limit\n",
    "    )\n",
    "trans_distances = zdisk_modelling.remove_duplicates(trans_distances)"
   ]
  },
  {
   "cell_type": "markdown",
   "metadata": {},
   "source": [
    "## Choose analysis lengthscale for transverse distance"
   ]
  },
  {
   "cell_type": "code",
   "execution_count": 10,
   "metadata": {},
   "outputs": [],
   "source": [
    "fitlength = 50."
   ]
  },
  {
   "cell_type": "code",
   "execution_count": 11,
   "metadata": {},
   "outputs": [
    {
     "data": {
      "image/png": "[encoded data removed]",
      "text/plain": [
       "<Figure size 432x288 with 1 Axes>"
      ]
     },
     "metadata": {
      "needs_background": "light"
     },
     "output_type": "display_data"
    }
   ],
   "source": [
    "hist_1nm_bins = plt.hist(trans_distances, bins=np.arange(fitlength + 1.))"
   ]
  },
  {
   "cell_type": "code",
   "execution_count": 57,
   "metadata": {},
   "outputs": [
    {
     "data": {
      "text/plain": [
       "[<matplotlib.lines.Line2D at 0x22dda3c1f48>]"
      ]
     },
     "execution_count": 57,
     "metadata": {},
     "output_type": "execute_result"
    },
    {
     "data": {
      "image/png": "[encoded data removed]",
      "text/plain": [
       "<Figure size 432x288 with 1 Axes>"
      ]
     },
     "metadata": {
      "needs_background": "light"
     },
     "output_type": "display_data"
    }
   ],
   "source": [
    "fitlength = 50.\n",
    "calculation_points = np.arange(fitlength) + 0.5\n",
    "combined_precision = np.sqrt(2) * meos_precision\n",
    "combined_precision = np.sqrt(2) * meos_precision\n",
    "transverse_rpd = plotting.estimate_rpd_churchman_2d(\n",
    "    input_distances=trans_distances[trans_distances < (fitlength + 3 * combined_precision)],\n",
    "    calculation_points=calculation_points,\n",
    "    combined_precision=combined_precision\n",
    ")\n",
    "plt.plot(calculation_points, transverse_rpd)"
   ]
  },
  {
   "cell_type": "markdown",
   "metadata": {},
   "source": [
    "## Normalise for increasing search circle with increasing distance"
   ]
  },
  {
   "cell_type": "code",
   "execution_count": 58,
   "metadata": {},
   "outputs": [
    {
     "data": {
      "text/plain": [
       "[<matplotlib.lines.Line2D at 0x22ddb708608>]"
      ]
     },
     "execution_count": 58,
     "metadata": {},
     "output_type": "execute_result"
    },
    {
     "data": {
      "image/png": "[encoded data removed]",
      "text/plain": [
       "<Figure size 432x288 with 1 Axes>"
      ]
     },
     "metadata": {
      "needs_background": "light"
     },
     "output_type": "display_data"
    }
   ],
   "source": [
    "normalised_transverse_rpd = transverse_rpd[calculation_points > 0.] / calculation_points[calculation_points > 0.]\n",
    "norm_rpd_calculation_points = calculation_points[calculation_points > 0.]\n",
    "\n",
    "plt.plot(norm_rpd_calculation_points, normalised_transverse_rpd)"
   ]
  },
  {
   "cell_type": "code",
   "execution_count": 60,
   "metadata": {},
   "outputs": [
    {
     "data": {
      "text/plain": [
       "(0, 2.629535511108034)"
      ]
     },
     "execution_count": 60,
     "metadata": {},
     "output_type": "execute_result"
    },
    {
     "data": {
      "image/png": "[encoded data removed]",
      "text/plain": [
       "<Figure size 432x288 with 1 Axes>"
      ]
     },
     "metadata": {
      "needs_background": "light"
     },
     "output_type": "display_data"
    }
   ],
   "source": [
    "yz_fig = plt.figure()\n",
    "yz_axes = yz_fig.add_subplot(111)\n",
    "yz_axes.fill_between(calculation_points, 0, normalised_transverse_rpd,\n",
    "                    color='blue', alpha=0.25)\n",
    "yz_axes.set_xlim(0, 49.5)\n",
    "yz_axes.set_ylim(0,)"
   ]
  },
  {
   "cell_type": "code",
   "execution_count": 52,
   "metadata": {},
   "outputs": [
    {
     "data": {
      "text/plain": [
       "33.941125496954285"
      ]
     },
     "execution_count": 52,
     "metadata": {},
     "output_type": "execute_result"
    }
   ],
   "source": [
    "import numpy as np\n",
    "24. * np.sqrt(2)"
   ]
  },
  {
   "cell_type": "markdown",
   "metadata": {},
   "source": [
    "### Optional save/load to save time"
   ]
  },
  {
   "cell_type": "code",
   "execution_count": 53,
   "metadata": {},
   "outputs": [],
   "source": [
    "# np.save('normalised_transverse_rpd_smoothed_Churchman-4p8', normalised_transverse_rpd)\n",
    "# normalised_transverse_rpd = np.load('normalised_transverse_rpd_smoothed_Churchman-4p8.npy')"
   ]
  },
  {
   "cell_type": "markdown",
   "metadata": {},
   "source": [
    "## Set up model RPD and fit\n",
    "Tried a few smoothing kernel widthes and fitted up to 50 nm."
   ]
  },
  {
   "cell_type": "code",
   "execution_count": 54,
   "metadata": {},
   "outputs": [],
   "source": [
    "trans_model_with_info = zdisk_modelling.set_up_model_2d_twopeaks_flat_bg_with_fit_settings()"
   ]
  },
  {
   "cell_type": "code",
   "execution_count": 61,
   "metadata": {},
   "outputs": [
    {
     "name": "stdout",
     "output_type": "stream",
     "text": [
      "[[1.70432750e+01 2.72474169e-01]\n",
      " [3.83918040e+01 5.41464807e-01]\n",
      " [6.49453629e+00 5.86518058e-01]\n",
      " [9.58085134e+01 2.08526369e+01]\n",
      " [1.96355890e+02 5.00153139e+01]\n",
      " [2.14249464e+00 5.18078292e-02]]\n",
      "SSR = 0.05350749514200236\n",
      "AIC = -327.9978272104336\n",
      "AICcorr = -325.33116054376694\n",
      "\n",
      "Initial parameter guesses:\n",
      "[20, 40.0, 5, 1, 1, 20]\n",
      "\n",
      "Parameter bounds:\n",
      "([0, 0, 0, 0, 0, 0], [50, 50.0, 20, 1000, 1000, 100])\n"
     ]
    }
   ],
   "source": [
    "(params_optimised,\n",
    " params_covar,\n",
    " params_1sd_error) = zdisk_modelling.fitmodel_to_hist(\n",
    "    norm_rpd_calculation_points[0:50],\n",
    "    normalised_transverse_rpd[0:50],\n",
    "    trans_model_with_info.model_rpd,\n",
    "    trans_model_with_info.initial_params,\n",
    "    trans_model_with_info.param_bounds\n",
    "    )\n",
    "print('')\n",
    "print('Initial parameter guesses:')\n",
    "print(trans_model_with_info.initial_params)\n",
    "print('')\n",
    "print('Parameter bounds:')\n",
    "print(trans_model_with_info.param_bounds)"
   ]
  },
  {
   "cell_type": "markdown",
   "metadata": {},
   "source": [
    "## Calculate 95% CIs"
   ]
  },
  {
   "cell_type": "code",
   "execution_count": 67,
   "metadata": {},
   "outputs": [
    {
     "name": "stderr",
     "output_type": "stream",
     "text": [
      "C:\\Code\\perpl-python3\\models_2d_distances_normalised.py:101: RuntimeWarning: invalid value encountered in double_scalars\n",
      "  / x_values # Normalisation\n",
      "C:\\Code\\perpl-python3\\models_2d_distances_normalised.py:104: RuntimeWarning: invalid value encountered in double_scalars\n",
      "  / x_values # Normalisation\n",
      "C:\\Users\\fbsacu\\Miniconda3\\envs\\PERPL\\lib\\site-packages\\numdifftools\\extrapolation.py:489: RuntimeWarning: invalid value encountered in less_equal\n",
      "  converged = err <= tol\n",
      "C:\\Users\\fbsacu\\Miniconda3\\envs\\PERPL\\lib\\site-packages\\numdifftools\\limits.py:173: RuntimeWarning: invalid value encountered in less\n",
      "  outliers = (((abs(der) < (a_median / trim_fact)) +\n",
      "C:\\Users\\fbsacu\\Miniconda3\\envs\\PERPL\\lib\\site-packages\\numdifftools\\limits.py:174: RuntimeWarning: invalid value encountered in greater\n",
      "  (abs(der) > (a_median * trim_fact))) * (a_median > 1e-8) +\n",
      "C:\\Users\\fbsacu\\Miniconda3\\envs\\PERPL\\lib\\site-packages\\numdifftools\\limits.py:175: RuntimeWarning: invalid value encountered in less\n",
      "  ((der < p25 - 1.5 * iqr) + (p75 + 1.5 * iqr < der)))\n"
     ]
    }
   ],
   "source": [
    "stdev = modelling_general.stdev_of_model(calculation_points,\n",
    "                            params_optimised,\n",
    "                            params_covar,\n",
    "                                trans_model_with_info.vector_input_model)"
   ]
  },
  {
   "cell_type": "code",
   "execution_count": null,
   "metadata": {},
   "outputs": [],
   "source": [
    "plt.plot(norm_rpd_calculation_points[0:50],\n",
    "    normalised_transverse_rpd[0:50])\n",
    "zdisk_plots.plot_fitted_model(\n",
    "    norm_rpd_calculation_points[0:50],\n",
    "    51.,\n",
    "    params_optimised,\n",
    "    params_covar,\n",
    "    trans_model_with_info,\n",
    "    plot_95ci=True\n",
    "    )"
   ]
  },
  {
   "cell_type": "code",
   "execution_count": 80,
   "metadata": {},
   "outputs": [
    {
     "data": {
      "image/png": "[encoded data removed]",
      "text/plain": [
       "<Figure size 432x288 with 1 Axes>"
      ]
     },
     "metadata": {
      "needs_background": "light"
     },
     "output_type": "display_data"
    }
   ],
   "source": [
    "yz_fig = plt.figure()\n",
    "yz_axes = yz_fig.add_subplot(111)\n",
    "yz_axes.fill_between(calculation_points, 0, normalised_transverse_rpd,\n",
    "                    color='blue', alpha=0.25)\n",
    "yz_axes.set_xlim(0, 49.5)\n",
    "yz_axes.set_ylim(0,)\n",
    "yz_axes.plot(calculation_points,\n",
    "             trans_model_with_info.model_rpd(calculation_points, *params_optimised),\n",
    "            color='red')\n",
    "yz_axes.fill_between(calculation_points,\n",
    "                     trans_model_with_info.model_rpd(calculation_points, *params_optimised) - 1.96 * stdev,\n",
    "                     trans_model_with_info.model_rpd(calculation_points, *params_optimised) + 1.96 * stdev,\n",
    "                     color='red', alpha=0.25\n",
    "                    )\n",
    "yz_axes.set_ylabel('Standardaised counts')\n",
    "yz_axes.set_xlabel('$\\Delta$YZ (nm)')\n",
    "yz_fig.savefig(r'..\\data-perpl\\ACTN2_mEos\\YZ-dists-standardised-smoothed2xprec-fit-95ci.pdf',\n",
    "              bbox_inches='tight')"
   ]
  },
  {
   "cell_type": "code",
   "execution_count": null,
   "metadata": {},
   "outputs": [],
   "source": [
    "fitlength = 50.\n",
    "calculation_points = np.arange(fitlength + 1.)\n",
    "combined_precision = 6.\n",
    "transverse_rpd = plotting.estimate_rpd_churchman_2d(\n",
    "    input_distances=trans_distances[trans_distances < (fitlength + 3 * combined_precision)],\n",
    "    calculation_points=calculation_points,\n",
    "    combined_precision=combined_precision\n",
    ")\n",
    "plt.plot(calculation_points, transverse_rpd)"
   ]
  },
  {
   "cell_type": "code",
   "execution_count": null,
   "metadata": {},
   "outputs": [],
   "source": [
    "normalised_transverse_rpd = transverse_rpd[calculation_points > 0.] / calculation_points[calculation_points > 0.]\n",
    "norm_rpd_calculation_points = calculation_points[calculation_points > 0.]\n",
    "plt.plot(norm_rpd_calculation_points, normalised_transverse_rpd)"
   ]
  },
  {
   "cell_type": "markdown",
   "metadata": {},
   "source": [
    "### Optional save/load to save time"
   ]
  },
  {
   "cell_type": "code",
   "execution_count": null,
   "metadata": {},
   "outputs": [],
   "source": [
    "# np.save('normalised_transverse_rpd_smoothed_Churchman-6', normalised_transverse_rpd)\n",
    "# normalised_transverse_rpd = np.load('normalised_transverse_rpd_smoothed_Churchman-6.npy')"
   ]
  },
  {
   "cell_type": "code",
   "execution_count": null,
   "metadata": {},
   "outputs": [],
   "source": [
    "calculation_points = np.arange(fitlength + 1.)\n",
    "norm_rpd_calculation_points = calculation_points[calculation_points > 0.]\n",
    "(params_optimised,\n",
    " params_covar,\n",
    " params_1sd_error) = zdisk_modelling.fitmodel_to_hist(\n",
    "    norm_rpd_calculation_points[0:50],\n",
    "    normalised_transverse_rpd[0:50],\n",
    "    trans_model_with_info.model_rpd,\n",
    "    trans_model_with_info.initial_params,\n",
    "    trans_model_with_info.param_bounds\n",
    "    )\n",
    "print('')\n",
    "print('Initial parameter guesses:')\n",
    "print(trans_model_with_info.initial_params)\n",
    "print('')\n",
    "print('Parameter bounds:')\n",
    "print(trans_model_with_info.param_bounds)"
   ]
  },
  {
   "cell_type": "code",
   "execution_count": 23,
   "metadata": {},
   "outputs": [
    {
     "name": "stdout",
     "output_type": "stream",
     "text": [
      "x at zero bg is -0.04294362892259386.\n"
     ]
    },
    {
     "name": "stderr",
     "output_type": "stream",
     "text": [
      "C:\\Code\\perpl-python3\\models_2d_distances_normalised.py:101: RuntimeWarning: invalid value encountered in double_scalars\n",
      "  / x_values # Normalisation\n",
      "C:\\Code\\perpl-python3\\models_2d_distances_normalised.py:104: RuntimeWarning: invalid value encountered in double_scalars\n",
      "  / x_values # Normalisation\n",
      "C:\\Users\\fbsacu\\Miniconda3\\envs\\PERPL\\lib\\site-packages\\numdifftools\\extrapolation.py:489: RuntimeWarning: invalid value encountered in less_equal\n",
      "  converged = err <= tol\n",
      "C:\\Users\\fbsacu\\Miniconda3\\envs\\PERPL\\lib\\site-packages\\numdifftools\\limits.py:173: RuntimeWarning: invalid value encountered in less\n",
      "  outliers = (((abs(der) < (a_median / trim_fact)) +\n",
      "C:\\Users\\fbsacu\\Miniconda3\\envs\\PERPL\\lib\\site-packages\\numdifftools\\limits.py:174: RuntimeWarning: invalid value encountered in greater\n",
      "  (abs(der) > (a_median * trim_fact))) * (a_median > 1e-8) +\n",
      "C:\\Users\\fbsacu\\Miniconda3\\envs\\PERPL\\lib\\site-packages\\numdifftools\\limits.py:175: RuntimeWarning: invalid value encountered in less\n",
      "  ((der < p25 - 1.5 * iqr) + (p75 + 1.5 * iqr < der)))\n"
     ]
    },
    {
     "data": {
      "image/png": "[encoded data removed]",
      "text/plain": [
       "<Figure size 432x288 with 1 Axes>"
      ]
     },
     "metadata": {
      "needs_background": "light"
     },
     "output_type": "display_data"
    }
   ],
   "source": [
    "plt.plot(norm_rpd_calculation_points[0:50],\n",
    "    normalised_transverse_rpd[0:50])\n",
    "zdisk_plots.plot_fitted_model(\n",
    "    norm_rpd_calculation_points[0:50],\n",
    "    51.,\n",
    "    params_optimised,\n",
    "    params_covar,\n",
    "    trans_model_with_info,\n",
    "    plot_95ci=True\n",
    "    )"
   ]
  },
  {
   "cell_type": "code",
   "execution_count": null,
   "metadata": {},
   "outputs": [],
   "source": [
    "fitlength = 50.\n",
    "calculation_points = np.arange(fitlength + 1.)\n",
    "combined_precision = 8.\n",
    "transverse_rpd = plotting.estimate_rpd_churchman_2d(\n",
    "    input_distances=trans_distances[trans_distances < (fitlength + 3 * combined_precision)],\n",
    "    calculation_points=calculation_points,\n",
    "    combined_precision=combined_precision\n",
    ")\n",
    "plt.plot(calculation_points, transverse_rpd)"
   ]
  },
  {
   "cell_type": "code",
   "execution_count": null,
   "metadata": {},
   "outputs": [],
   "source": [
    "normalised_transverse_rpd = transverse_rpd[calculation_points > 0.] / calculation_points[calculation_points > 0.]\n",
    "norm_rpd_calculation_points = calculation_points[calculation_points > 0.]\n",
    "plt.plot(norm_rpd_calculation_points, normalised_transverse_rpd)"
   ]
  },
  {
   "cell_type": "markdown",
   "metadata": {},
   "source": [
    "### Optional save/load to save time"
   ]
  },
  {
   "cell_type": "code",
   "execution_count": null,
   "metadata": {},
   "outputs": [],
   "source": [
    "# np.save('normalised_transverse_rpd_smoothed_Churchman-8', normalised_transverse_rpd)\n",
    "# normalised_transverse_rpd = np.load('normalised_transverse_rpd_smoothed_Churchman-6.npy')"
   ]
  },
  {
   "cell_type": "code",
   "execution_count": null,
   "metadata": {},
   "outputs": [],
   "source": [
    "# calculation_points = np.arange(fitlength + 1.)\n",
    "# norm_rpd_calculation_points = calculation_points[calculation_points > 0.]\n",
    "(params_optimised,\n",
    " params_covar,\n",
    " params_1sd_error) = zdisk_modelling.fitmodel_to_hist(\n",
    "    norm_rpd_calculation_points[0:50],\n",
    "    normalised_transverse_rpd[0:50],\n",
    "    trans_model_with_info.model_rpd,\n",
    "    trans_model_with_info.initial_params,\n",
    "    trans_model_with_info.param_bounds\n",
    "    )\n",
    "print('')\n",
    "print('Initial parameter guesses:')\n",
    "print(trans_model_with_info.initial_params)\n",
    "print('')\n",
    "print('Parameter bounds:')\n",
    "print(trans_model_with_info.param_bounds)"
   ]
  },
  {
   "cell_type": "code",
   "execution_count": null,
   "metadata": {},
   "outputs": [],
   "source": [
    "plt.plot(norm_rpd_calculation_points[0:50],\n",
    "    normalised_transverse_rpd[0:50])\n",
    "zdisk_plots.plot_fitted_model(\n",
    "    norm_rpd_calculation_points[0:50],\n",
    "    51.,\n",
    "    params_optimised,\n",
    "    params_covar,\n",
    "    trans_model_with_info,\n",
    "    plot_95ci=True\n",
    "    )"
   ]
  },
  {
   "cell_type": "code",
   "execution_count": null,
   "metadata": {},
   "outputs": [],
   "source": [
    "fitlength = 50.\n",
    "calculation_points = np.arange(fitlength + 1.)\n",
    "combined_precision = 10.\n",
    "transverse_rpd = plotting.estimate_rpd_churchman_2d(\n",
    "    input_distances=trans_distances[trans_distances < (fitlength + 3 * combined_precision)],\n",
    "    calculation_points=calculation_points,\n",
    "    combined_precision=combined_precision\n",
    ")\n",
    "plt.plot(calculation_points, transverse_rpd)"
   ]
  },
  {
   "cell_type": "code",
   "execution_count": null,
   "metadata": {},
   "outputs": [],
   "source": [
    "normalised_transverse_rpd = transverse_rpd[calculation_points > 0.] / calculation_points[calculation_points > 0.]\n",
    "norm_rpd_calculation_points = calculation_points[calculation_points > 0.]\n",
    "plt.plot(norm_rpd_calculation_points, normalised_transverse_rpd)"
   ]
  },
  {
   "cell_type": "markdown",
   "metadata": {},
   "source": [
    "### Optional save/load to save time"
   ]
  },
  {
   "cell_type": "code",
   "execution_count": null,
   "metadata": {},
   "outputs": [],
   "source": [
    "# np.save('normalised_transverse_rpd_smoothed_Churchman-10', normalised_transverse_rpd)\n",
    "# normalised_transverse_rpd = np.load('normalised_transverse_rpd_smoothed_Churchman-6.npy')"
   ]
  },
  {
   "cell_type": "code",
   "execution_count": null,
   "metadata": {},
   "outputs": [],
   "source": [
    "# calculation_points = np.arange(fitlength + 1.)\n",
    "# norm_rpd_calculation_points = calculation_points[calculation_points > 0.]\n",
    "(params_optimised,\n",
    " params_covar,\n",
    " params_1sd_error) = zdisk_modelling.fitmodel_to_hist(\n",
    "    norm_rpd_calculation_points[0:50],\n",
    "    normalised_transverse_rpd[0:50],\n",
    "    trans_model_with_info.model_rpd,\n",
    "    trans_model_with_info.initial_params,\n",
    "    trans_model_with_info.param_bounds\n",
    "    )\n",
    "print('')\n",
    "print('Initial parameter guesses:')\n",
    "print(trans_model_with_info.initial_params)\n",
    "print('')\n",
    "print('Parameter bounds:')\n",
    "print(trans_model_with_info.param_bounds)"
   ]
  },
  {
   "cell_type": "code",
   "execution_count": null,
   "metadata": {},
   "outputs": [],
   "source": [
    "plt.plot(norm_rpd_calculation_points[0:50],\n",
    "    normalised_transverse_rpd[0:50])\n",
    "zdisk_plots.plot_fitted_model(\n",
    "    norm_rpd_calculation_points[0:50],\n",
    "    51.,\n",
    "    params_optimised,\n",
    "    params_covar,\n",
    "    trans_model_with_info,\n",
    "    plot_95ci=True\n",
    "    )"
   ]
  },
  {
   "cell_type": "code",
   "execution_count": null,
   "metadata": {},
   "outputs": [],
   "source": []
  }
 ],
 "metadata": {
  "file_extension": ".py",
  "kernelspec": {
   "display_name": "Python 3",
   "language": "python",
   "name": "python3"
  },
  "language_info": {
   "codemirror_mode": {
    "name": "ipython",
    "version": 3
   },
   "file_extension": ".py",
   "mimetype": "text/x-python",
   "name": "python",
   "nbconvert_exporter": "python",
   "pygments_lexer": "ipython3",
   "version": "3.7.10"
  },
  "mimetype": "text/x-python",
  "name": "python",
  "npconvert_exporter": "python",
  "pygments_lexer": "ipython3",
  "version": 3
 },
 "nbformat": 4,
 "nbformat_minor": 2
}
